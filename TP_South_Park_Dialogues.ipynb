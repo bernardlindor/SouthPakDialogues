{
 "cells": [
  {
   "cell_type": "markdown",
   "metadata": {},
   "source": [
    "## TP Indextion:\n",
    "### Realise par: Bernard LINDOR"
   ]
  },
  {
   "cell_type": "markdown",
   "metadata": {},
   "source": [
    "# 1. Introduction"
   ]
  },
  {
   "cell_type": "markdown",
   "metadata": {},
   "source": [
    "South Park D ialogues – Guess who’s talking?\n",
    "\n",
    "◦ The dataset is annotated with Season,Episode,Character,Line.\n",
    "By using the `line`, \n",
    "can you predict who is the character that said it `Character`?\n",
    "The `Character` can be one of the characters in the animated series South Park."
   ]
  },
  {
   "cell_type": "markdown",
   "metadata": {},
   "source": [
    "### 1.1. Importation des bibliothèques"
   ]
  },
  {
   "cell_type": "code",
   "execution_count": 1,
   "metadata": {},
   "outputs": [],
   "source": [
    "import pandas as pd\n",
    "import numpy as np\n",
    "import matplotlib.pyplot as plt\n",
    "import seaborn as sns\n",
    "import sklearn "
   ]
  },
  {
   "cell_type": "markdown",
   "metadata": {},
   "source": [
    "# 2. Récupération, Prétraitement et Exploration du corpus de textes"
   ]
  },
  {
   "cell_type": "code",
   "execution_count": 4,
   "metadata": {},
   "outputs": [],
   "source": [
    "df = pd.read_csv('D:\\IFI_SIM_P24\\Master_2\\Indexation\\TP_Indexation\\Datasets/south_park_dialogues_dataset.csv')"
   ]
  },
  {
   "cell_type": "code",
   "execution_count": 5,
   "metadata": {},
   "outputs": [
    {
     "data": {
      "text/html": [
       "<div>\n",
       "<style scoped>\n",
       "    .dataframe tbody tr th:only-of-type {\n",
       "        vertical-align: middle;\n",
       "    }\n",
       "\n",
       "    .dataframe tbody tr th {\n",
       "        vertical-align: top;\n",
       "    }\n",
       "\n",
       "    .dataframe thead th {\n",
       "        text-align: right;\n",
       "    }\n",
       "</style>\n",
       "<table border=\"1\" class=\"dataframe\">\n",
       "  <thead>\n",
       "    <tr style=\"text-align: right;\">\n",
       "      <th></th>\n",
       "      <th>Season</th>\n",
       "      <th>Episode</th>\n",
       "      <th>Character</th>\n",
       "      <th>Line</th>\n",
       "    </tr>\n",
       "  </thead>\n",
       "  <tbody>\n",
       "    <tr>\n",
       "      <td>0</td>\n",
       "      <td>10</td>\n",
       "      <td>1</td>\n",
       "      <td>Stan</td>\n",
       "      <td>You guys, you guys! Chef is going away. \\n</td>\n",
       "    </tr>\n",
       "    <tr>\n",
       "      <td>1</td>\n",
       "      <td>10</td>\n",
       "      <td>1</td>\n",
       "      <td>Kyle</td>\n",
       "      <td>Going away? For how long?\\n</td>\n",
       "    </tr>\n",
       "    <tr>\n",
       "      <td>2</td>\n",
       "      <td>10</td>\n",
       "      <td>1</td>\n",
       "      <td>Stan</td>\n",
       "      <td>Forever.\\n</td>\n",
       "    </tr>\n",
       "    <tr>\n",
       "      <td>3</td>\n",
       "      <td>10</td>\n",
       "      <td>1</td>\n",
       "      <td>Chef</td>\n",
       "      <td>I'm sorry boys.\\n</td>\n",
       "    </tr>\n",
       "    <tr>\n",
       "      <td>4</td>\n",
       "      <td>10</td>\n",
       "      <td>1</td>\n",
       "      <td>Stan</td>\n",
       "      <td>Chef said he's been bored, so he joining a gro...</td>\n",
       "    </tr>\n",
       "  </tbody>\n",
       "</table>\n",
       "</div>"
      ],
      "text/plain": [
       "  Season Episode Character                                               Line\n",
       "0     10       1      Stan         You guys, you guys! Chef is going away. \\n\n",
       "1     10       1      Kyle                        Going away? For how long?\\n\n",
       "2     10       1      Stan                                         Forever.\\n\n",
       "3     10       1      Chef                                  I'm sorry boys.\\n\n",
       "4     10       1      Stan  Chef said he's been bored, so he joining a gro..."
      ]
     },
     "execution_count": 5,
     "metadata": {},
     "output_type": "execute_result"
    }
   ],
   "source": [
    "### affichage des 5 premières lignes\n",
    "df.head()"
   ]
  },
  {
   "cell_type": "code",
   "execution_count": 6,
   "metadata": {},
   "outputs": [
    {
     "data": {
      "text/html": [
       "<div>\n",
       "<style scoped>\n",
       "    .dataframe tbody tr th:only-of-type {\n",
       "        vertical-align: middle;\n",
       "    }\n",
       "\n",
       "    .dataframe tbody tr th {\n",
       "        vertical-align: top;\n",
       "    }\n",
       "\n",
       "    .dataframe thead th {\n",
       "        text-align: right;\n",
       "    }\n",
       "</style>\n",
       "<table border=\"1\" class=\"dataframe\">\n",
       "  <thead>\n",
       "    <tr style=\"text-align: right;\">\n",
       "      <th></th>\n",
       "      <th>Season</th>\n",
       "      <th>Episode</th>\n",
       "      <th>Character</th>\n",
       "      <th>Line</th>\n",
       "    </tr>\n",
       "  </thead>\n",
       "  <tbody>\n",
       "    <tr>\n",
       "      <td>70891</td>\n",
       "      <td>9</td>\n",
       "      <td>14</td>\n",
       "      <td>Stan</td>\n",
       "      <td>I think you're pushing it.\\n</td>\n",
       "    </tr>\n",
       "    <tr>\n",
       "      <td>70892</td>\n",
       "      <td>9</td>\n",
       "      <td>14</td>\n",
       "      <td>Randy</td>\n",
       "      <td>How about twenty?\\n</td>\n",
       "    </tr>\n",
       "    <tr>\n",
       "      <td>70893</td>\n",
       "      <td>9</td>\n",
       "      <td>14</td>\n",
       "      <td>Stan</td>\n",
       "      <td>That's not disciprine.\\n</td>\n",
       "    </tr>\n",
       "    <tr>\n",
       "      <td>70894</td>\n",
       "      <td>9</td>\n",
       "      <td>14</td>\n",
       "      <td>Randy</td>\n",
       "      <td>Right right. Does vodka count?\\n</td>\n",
       "    </tr>\n",
       "    <tr>\n",
       "      <td>70895</td>\n",
       "      <td>9</td>\n",
       "      <td>14</td>\n",
       "      <td>Stan</td>\n",
       "      <td>Dad!\\n</td>\n",
       "    </tr>\n",
       "  </tbody>\n",
       "</table>\n",
       "</div>"
      ],
      "text/plain": [
       "      Season Episode Character                              Line\n",
       "70891      9      14      Stan      I think you're pushing it.\\n\n",
       "70892      9      14     Randy               How about twenty?\\n\n",
       "70893      9      14      Stan          That's not disciprine.\\n\n",
       "70894      9      14     Randy  Right right. Does vodka count?\\n\n",
       "70895      9      14      Stan                            Dad!\\n"
      ]
     },
     "execution_count": 6,
     "metadata": {},
     "output_type": "execute_result"
    }
   ],
   "source": [
    "### affichage des 5 dernières lignes\n",
    "df.tail()"
   ]
  },
  {
   "cell_type": "code",
   "execution_count": 7,
   "metadata": {},
   "outputs": [
    {
     "data": {
      "text/html": [
       "<div>\n",
       "<style scoped>\n",
       "    .dataframe tbody tr th:only-of-type {\n",
       "        vertical-align: middle;\n",
       "    }\n",
       "\n",
       "    .dataframe tbody tr th {\n",
       "        vertical-align: top;\n",
       "    }\n",
       "\n",
       "    .dataframe thead th {\n",
       "        text-align: right;\n",
       "    }\n",
       "</style>\n",
       "<table border=\"1\" class=\"dataframe\">\n",
       "  <thead>\n",
       "    <tr style=\"text-align: right;\">\n",
       "      <th></th>\n",
       "      <th>Season</th>\n",
       "      <th>Episode</th>\n",
       "      <th>Character</th>\n",
       "      <th>Line</th>\n",
       "    </tr>\n",
       "  </thead>\n",
       "  <tbody>\n",
       "    <tr>\n",
       "      <td>count</td>\n",
       "      <td>70896</td>\n",
       "      <td>70896</td>\n",
       "      <td>70896</td>\n",
       "      <td>70896</td>\n",
       "    </tr>\n",
       "    <tr>\n",
       "      <td>unique</td>\n",
       "      <td>19</td>\n",
       "      <td>19</td>\n",
       "      <td>3950</td>\n",
       "      <td>64301</td>\n",
       "    </tr>\n",
       "    <tr>\n",
       "      <td>top</td>\n",
       "      <td>2</td>\n",
       "      <td>10</td>\n",
       "      <td>Cartman</td>\n",
       "      <td>What?\\n</td>\n",
       "    </tr>\n",
       "    <tr>\n",
       "      <td>freq</td>\n",
       "      <td>6416</td>\n",
       "      <td>5271</td>\n",
       "      <td>9774</td>\n",
       "      <td>361</td>\n",
       "    </tr>\n",
       "  </tbody>\n",
       "</table>\n",
       "</div>"
      ],
      "text/plain": [
       "       Season Episode Character     Line\n",
       "count   70896   70896     70896    70896\n",
       "unique     19      19      3950    64301\n",
       "top         2      10   Cartman  What?\\n\n",
       "freq     6416    5271      9774      361"
      ]
     },
     "execution_count": 7,
     "metadata": {},
     "output_type": "execute_result"
    }
   ],
   "source": [
    "### affichage des Indicateurs statistiques\n",
    "df.describe(include=[np.object])"
   ]
  },
  {
   "cell_type": "code",
   "execution_count": 8,
   "metadata": {},
   "outputs": [
    {
     "data": {
      "text/plain": [
       "3950"
      ]
     },
     "execution_count": 8,
     "metadata": {},
     "output_type": "execute_result"
    }
   ],
   "source": [
    "### affichage des personnages\n",
    "len(df['Character'].unique())"
   ]
  },
  {
   "cell_type": "code",
   "execution_count": 9,
   "metadata": {},
   "outputs": [
    {
     "data": {
      "text/plain": [
       "Cartman         9774\n",
       "Stan            7680\n",
       "Kyle            7099\n",
       "Butters         2602\n",
       "Randy           2467\n",
       "Mr. Garrison    1002\n",
       "Chef             917\n",
       "Kenny            881\n",
       "Sharon           862\n",
       "Mr. Mackey       633\n",
       "Name: Character, dtype: int64"
      ]
     },
     "execution_count": 9,
     "metadata": {},
     "output_type": "execute_result"
    }
   ],
   "source": [
    "### affichage des 10 premiers personnages et leur nombre de dialiogues par ordre decroissant\n",
    "df['Character'].value_counts().head(10)"
   ]
  },
  {
   "cell_type": "code",
   "execution_count": 12,
   "metadata": {},
   "outputs": [
    {
     "data": {
      "text/plain": [
       "Elderly Woman 6    1\n",
       "Reveler            1\n",
       "Alias 3            1\n",
       "HC Driver 6        1\n",
       "Patron 6           1\n",
       "HC Driver 1        1\n",
       "Confederate 1      1\n",
       "Biker 11           1\n",
       "Beast              1\n",
       "Sheriff            1\n",
       "Name: Character, dtype: int64"
      ]
     },
     "execution_count": 12,
     "metadata": {},
     "output_type": "execute_result"
    }
   ],
   "source": [
    "### affichage des 10 derniers personnages ayant moins de dialogues\n",
    "df['Character'].value_counts().tail(10)"
   ]
  },
  {
   "cell_type": "code",
   "execution_count": 14,
   "metadata": {},
   "outputs": [],
   "source": [
    "df = df.groupby('Character').filter(lambda x: len(x) > 2000)"
   ]
  },
  {
   "cell_type": "code",
   "execution_count": 15,
   "metadata": {},
   "outputs": [
    {
     "data": {
      "text/plain": [
       "Cartman    9774\n",
       "Stan       7680\n",
       "Kyle       7099\n",
       "Butters    2602\n",
       "Randy      2467\n",
       "Name: Character, dtype: int64"
      ]
     },
     "execution_count": 15,
     "metadata": {},
     "output_type": "execute_result"
    }
   ],
   "source": [
    "df['Character'].value_counts()"
   ]
  },
  {
   "cell_type": "markdown",
   "metadata": {},
   "source": [
    "# 3.  Prétraitement de texte "
   ]
  },
  {
   "cell_type": "code",
   "execution_count": 16,
   "metadata": {},
   "outputs": [],
   "source": [
    "df['Line'] = df['Line'].replace({'\\n': ' '}, regex=True)"
   ]
  },
  {
   "cell_type": "code",
   "execution_count": 17,
   "metadata": {},
   "outputs": [
    {
     "data": {
      "text/html": [
       "<div>\n",
       "<style scoped>\n",
       "    .dataframe tbody tr th:only-of-type {\n",
       "        vertical-align: middle;\n",
       "    }\n",
       "\n",
       "    .dataframe tbody tr th {\n",
       "        vertical-align: top;\n",
       "    }\n",
       "\n",
       "    .dataframe thead th {\n",
       "        text-align: right;\n",
       "    }\n",
       "</style>\n",
       "<table border=\"1\" class=\"dataframe\">\n",
       "  <thead>\n",
       "    <tr style=\"text-align: right;\">\n",
       "      <th></th>\n",
       "      <th>Season</th>\n",
       "      <th>Episode</th>\n",
       "      <th>Character</th>\n",
       "      <th>Line</th>\n",
       "    </tr>\n",
       "  </thead>\n",
       "  <tbody>\n",
       "    <tr>\n",
       "      <td>0</td>\n",
       "      <td>10</td>\n",
       "      <td>1</td>\n",
       "      <td>Stan</td>\n",
       "      <td>You guys, you guys! Chef is going away.</td>\n",
       "    </tr>\n",
       "    <tr>\n",
       "      <td>1</td>\n",
       "      <td>10</td>\n",
       "      <td>1</td>\n",
       "      <td>Kyle</td>\n",
       "      <td>Going away? For how long?</td>\n",
       "    </tr>\n",
       "    <tr>\n",
       "      <td>2</td>\n",
       "      <td>10</td>\n",
       "      <td>1</td>\n",
       "      <td>Stan</td>\n",
       "      <td>Forever.</td>\n",
       "    </tr>\n",
       "    <tr>\n",
       "      <td>4</td>\n",
       "      <td>10</td>\n",
       "      <td>1</td>\n",
       "      <td>Stan</td>\n",
       "      <td>Chef said he's been bored, so he joining a gro...</td>\n",
       "    </tr>\n",
       "    <tr>\n",
       "      <td>9</td>\n",
       "      <td>10</td>\n",
       "      <td>1</td>\n",
       "      <td>Cartman</td>\n",
       "      <td>I'm gonna miss him.  I'm gonna miss Chef and I...</td>\n",
       "    </tr>\n",
       "  </tbody>\n",
       "</table>\n",
       "</div>"
      ],
      "text/plain": [
       "  Season Episode Character                                               Line\n",
       "0     10       1      Stan          You guys, you guys! Chef is going away.  \n",
       "1     10       1      Kyle                         Going away? For how long? \n",
       "2     10       1      Stan                                          Forever. \n",
       "4     10       1      Stan  Chef said he's been bored, so he joining a gro...\n",
       "9     10       1   Cartman  I'm gonna miss him.  I'm gonna miss Chef and I..."
      ]
     },
     "execution_count": 17,
     "metadata": {},
     "output_type": "execute_result"
    }
   ],
   "source": [
    "df.head()"
   ]
  },
  {
   "cell_type": "markdown",
   "metadata": {},
   "source": [
    "### 3.1. Suppression des mots vides (stopwords)"
   ]
  },
  {
   "cell_type": "code",
   "execution_count": 19,
   "metadata": {},
   "outputs": [
    {
     "name": "stdout",
     "output_type": "stream",
     "text": [
      "Requirement already satisfied: nltk in c:\\programdata\\anaconda3\\lib\\site-packages (3.4.5)\n",
      "Requirement already satisfied: six in c:\\users\\berny\\appdata\\roaming\\python\\python37\\site-packages (from nltk) (1.15.0)\n"
     ]
    },
    {
     "name": "stderr",
     "output_type": "stream",
     "text": [
      "C:\\ProgramData\\Anaconda3\\lib\\runpy.py:125: RuntimeWarning: 'nltk.downloader' found in sys.modules after import of package 'nltk', but prior to execution of 'nltk.downloader'; this may result in unpredictable behaviour\n",
      "  warn(RuntimeWarning(msg))\n",
      "[nltk_data] Downloading package stopwords to\n",
      "[nltk_data]     C:\\Users\\Berny\\AppData\\Roaming\\nltk_data...\n",
      "[nltk_data]   Package stopwords is already up-to-date!\n",
      "C:\\ProgramData\\Anaconda3\\lib\\runpy.py:125: RuntimeWarning: 'nltk.downloader' found in sys.modules after import of package 'nltk', but prior to execution of 'nltk.downloader'; this may result in unpredictable behaviour\n",
      "  warn(RuntimeWarning(msg))\n",
      "[nltk_data] Downloading package averaged_perceptron_tagger to\n",
      "[nltk_data]     C:\\Users\\Berny\\AppData\\Roaming\\nltk_data...\n",
      "[nltk_data]   Package averaged_perceptron_tagger is already up-to-\n",
      "[nltk_data]       date!\n"
     ]
    }
   ],
   "source": [
    "!pip install nltk\n",
    "!python -m nltk.downloader stopwords\n",
    "!python -m nltk.downloader averaged_perceptron_tagger"
   ]
  },
  {
   "cell_type": "code",
   "execution_count": 21,
   "metadata": {},
   "outputs": [
    {
     "name": "stderr",
     "output_type": "stream",
     "text": [
      "[nltk_data] Downloading package stopwords to\n",
      "[nltk_data]     C:\\Users\\Berny\\AppData\\Roaming\\nltk_data...\n",
      "[nltk_data]   Package stopwords is already up-to-date!\n"
     ]
    }
   ],
   "source": [
    "import nltk\n",
    "import string\n",
    "from nltk.tokenize import word_tokenize\n",
    "from nltk.corpus import stopwords\n",
    "nltk.download('stopwords')\n",
    "# Liste des stopwords\n",
    "stopwords = set(stopwords.words('english'))"
   ]
  },
  {
   "cell_type": "code",
   "execution_count": 23,
   "metadata": {},
   "outputs": [],
   "source": [
    "def preprocess_texte(phrase):\n",
    "    \n",
    "    #Tokenisation\n",
    "    tokens = nltk.word_tokenize(phrase)\n",
    "    \n",
    "    # Tenir compte que des mots avec plus d'un caractère\n",
    "    tokens = [token for token in tokens if len(token) > 1]\n",
    "    \n",
    "    #Convertir en miniscule\n",
    "    tokens = [word.lower() for word in tokens]\n",
    "    \n",
    "    #Supprimer la ponctuation et les caractères spéciaux\n",
    "    tokens = [word for word in tokens if word not in string.punctuation]\n",
    "    tokens = [word for word in tokens if word.isalnum()]\n",
    "    tokens = [word for word in tokens if not word.isdigit()]\n",
    "    \n",
    "    #Supprimer les stopwords\n",
    "    tokens = [word for word in tokens if word not in stopwords]\n",
    "\n",
    "                             \n",
    "    if len(tokens) > 1:\n",
    "        return tokens\n",
    "    return None\n",
    "\n",
    "df['cleaned_text'] = df['Line'].apply(preprocess_texte)"
   ]
  },
  {
   "cell_type": "code",
   "execution_count": 24,
   "metadata": {},
   "outputs": [
    {
     "data": {
      "text/html": [
       "<div>\n",
       "<style scoped>\n",
       "    .dataframe tbody tr th:only-of-type {\n",
       "        vertical-align: middle;\n",
       "    }\n",
       "\n",
       "    .dataframe tbody tr th {\n",
       "        vertical-align: top;\n",
       "    }\n",
       "\n",
       "    .dataframe thead th {\n",
       "        text-align: right;\n",
       "    }\n",
       "</style>\n",
       "<table border=\"1\" class=\"dataframe\">\n",
       "  <thead>\n",
       "    <tr style=\"text-align: right;\">\n",
       "      <th></th>\n",
       "      <th>Season</th>\n",
       "      <th>Episode</th>\n",
       "      <th>Character</th>\n",
       "      <th>Line</th>\n",
       "      <th>cleaned_text</th>\n",
       "    </tr>\n",
       "  </thead>\n",
       "  <tbody>\n",
       "    <tr>\n",
       "      <td>0</td>\n",
       "      <td>10</td>\n",
       "      <td>1</td>\n",
       "      <td>Stan</td>\n",
       "      <td>You guys, you guys! Chef is going away.</td>\n",
       "      <td>[guys, guys, chef, going, away]</td>\n",
       "    </tr>\n",
       "    <tr>\n",
       "      <td>1</td>\n",
       "      <td>10</td>\n",
       "      <td>1</td>\n",
       "      <td>Kyle</td>\n",
       "      <td>Going away? For how long?</td>\n",
       "      <td>[going, away, long]</td>\n",
       "    </tr>\n",
       "    <tr>\n",
       "      <td>2</td>\n",
       "      <td>10</td>\n",
       "      <td>1</td>\n",
       "      <td>Stan</td>\n",
       "      <td>Forever.</td>\n",
       "      <td>None</td>\n",
       "    </tr>\n",
       "    <tr>\n",
       "      <td>4</td>\n",
       "      <td>10</td>\n",
       "      <td>1</td>\n",
       "      <td>Stan</td>\n",
       "      <td>Chef said he's been bored, so he joining a gro...</td>\n",
       "      <td>[chef, said, bored, joining, group, called, su...</td>\n",
       "    </tr>\n",
       "    <tr>\n",
       "      <td>9</td>\n",
       "      <td>10</td>\n",
       "      <td>1</td>\n",
       "      <td>Cartman</td>\n",
       "      <td>I'm gonna miss him.  I'm gonna miss Chef and I...</td>\n",
       "      <td>[gon, na, miss, gon, na, miss, chef, know, tell]</td>\n",
       "    </tr>\n",
       "  </tbody>\n",
       "</table>\n",
       "</div>"
      ],
      "text/plain": [
       "  Season Episode Character                                               Line  \\\n",
       "0     10       1      Stan          You guys, you guys! Chef is going away.     \n",
       "1     10       1      Kyle                         Going away? For how long?    \n",
       "2     10       1      Stan                                          Forever.    \n",
       "4     10       1      Stan  Chef said he's been bored, so he joining a gro...   \n",
       "9     10       1   Cartman  I'm gonna miss him.  I'm gonna miss Chef and I...   \n",
       "\n",
       "                                        cleaned_text  \n",
       "0                    [guys, guys, chef, going, away]  \n",
       "1                                [going, away, long]  \n",
       "2                                               None  \n",
       "4  [chef, said, bored, joining, group, called, su...  \n",
       "9   [gon, na, miss, gon, na, miss, chef, know, tell]  "
      ]
     },
     "execution_count": 24,
     "metadata": {},
     "output_type": "execute_result"
    }
   ],
   "source": [
    "df.head()"
   ]
  },
  {
   "cell_type": "code",
   "execution_count": 25,
   "metadata": {},
   "outputs": [
    {
     "data": {
      "text/plain": [
       "5705"
      ]
     },
     "execution_count": 25,
     "metadata": {},
     "output_type": "execute_result"
    }
   ],
   "source": [
    "df['cleaned_text'].isnull().sum()"
   ]
  },
  {
   "cell_type": "code",
   "execution_count": 26,
   "metadata": {},
   "outputs": [],
   "source": [
    "df.dropna(subset=['cleaned_text'], inplace=True)"
   ]
  },
  {
   "cell_type": "code",
   "execution_count": 27,
   "metadata": {},
   "outputs": [
    {
     "data": {
      "text/plain": [
       "0"
      ]
     },
     "execution_count": 27,
     "metadata": {},
     "output_type": "execute_result"
    }
   ],
   "source": [
    "df['cleaned_text'].isnull().sum()"
   ]
  },
  {
   "cell_type": "code",
   "execution_count": 28,
   "metadata": {},
   "outputs": [
    {
     "data": {
      "text/html": [
       "<div>\n",
       "<style scoped>\n",
       "    .dataframe tbody tr th:only-of-type {\n",
       "        vertical-align: middle;\n",
       "    }\n",
       "\n",
       "    .dataframe tbody tr th {\n",
       "        vertical-align: top;\n",
       "    }\n",
       "\n",
       "    .dataframe thead th {\n",
       "        text-align: right;\n",
       "    }\n",
       "</style>\n",
       "<table border=\"1\" class=\"dataframe\">\n",
       "  <thead>\n",
       "    <tr style=\"text-align: right;\">\n",
       "      <th></th>\n",
       "      <th>Season</th>\n",
       "      <th>Episode</th>\n",
       "      <th>Character</th>\n",
       "      <th>Line</th>\n",
       "      <th>cleaned_text</th>\n",
       "    </tr>\n",
       "  </thead>\n",
       "  <tbody>\n",
       "    <tr>\n",
       "      <td>0</td>\n",
       "      <td>10</td>\n",
       "      <td>1</td>\n",
       "      <td>Stan</td>\n",
       "      <td>You guys, you guys! Chef is going away.</td>\n",
       "      <td>[guys, guys, chef, going, away]</td>\n",
       "    </tr>\n",
       "    <tr>\n",
       "      <td>1</td>\n",
       "      <td>10</td>\n",
       "      <td>1</td>\n",
       "      <td>Kyle</td>\n",
       "      <td>Going away? For how long?</td>\n",
       "      <td>[going, away, long]</td>\n",
       "    </tr>\n",
       "    <tr>\n",
       "      <td>4</td>\n",
       "      <td>10</td>\n",
       "      <td>1</td>\n",
       "      <td>Stan</td>\n",
       "      <td>Chef said he's been bored, so he joining a gro...</td>\n",
       "      <td>[chef, said, bored, joining, group, called, su...</td>\n",
       "    </tr>\n",
       "    <tr>\n",
       "      <td>9</td>\n",
       "      <td>10</td>\n",
       "      <td>1</td>\n",
       "      <td>Cartman</td>\n",
       "      <td>I'm gonna miss him.  I'm gonna miss Chef and I...</td>\n",
       "      <td>[gon, na, miss, gon, na, miss, chef, know, tell]</td>\n",
       "    </tr>\n",
       "    <tr>\n",
       "      <td>10</td>\n",
       "      <td>10</td>\n",
       "      <td>1</td>\n",
       "      <td>Stan</td>\n",
       "      <td>Dude, how are we gonna go on? Chef was our fuh...</td>\n",
       "      <td>[dude, gon, na, go, chef, fuh]</td>\n",
       "    </tr>\n",
       "  </tbody>\n",
       "</table>\n",
       "</div>"
      ],
      "text/plain": [
       "   Season Episode Character  \\\n",
       "0      10       1      Stan   \n",
       "1      10       1      Kyle   \n",
       "4      10       1      Stan   \n",
       "9      10       1   Cartman   \n",
       "10     10       1      Stan   \n",
       "\n",
       "                                                 Line  \\\n",
       "0           You guys, you guys! Chef is going away.     \n",
       "1                          Going away? For how long?    \n",
       "4   Chef said he's been bored, so he joining a gro...   \n",
       "9   I'm gonna miss him.  I'm gonna miss Chef and I...   \n",
       "10  Dude, how are we gonna go on? Chef was our fuh...   \n",
       "\n",
       "                                         cleaned_text  \n",
       "0                     [guys, guys, chef, going, away]  \n",
       "1                                 [going, away, long]  \n",
       "4   [chef, said, bored, joining, group, called, su...  \n",
       "9    [gon, na, miss, gon, na, miss, chef, know, tell]  \n",
       "10                     [dude, gon, na, go, chef, fuh]  "
      ]
     },
     "execution_count": 28,
     "metadata": {},
     "output_type": "execute_result"
    }
   ],
   "source": [
    "df.head()"
   ]
  },
  {
   "cell_type": "code",
   "execution_count": 29,
   "metadata": {},
   "outputs": [],
   "source": [
    "df['dialogue_length'] = df['cleaned_text'].apply(lambda tokens: len(tokens))"
   ]
  },
  {
   "cell_type": "code",
   "execution_count": 30,
   "metadata": {},
   "outputs": [
    {
     "data": {
      "text/html": [
       "<div>\n",
       "<style scoped>\n",
       "    .dataframe tbody tr th:only-of-type {\n",
       "        vertical-align: middle;\n",
       "    }\n",
       "\n",
       "    .dataframe tbody tr th {\n",
       "        vertical-align: top;\n",
       "    }\n",
       "\n",
       "    .dataframe thead th {\n",
       "        text-align: right;\n",
       "    }\n",
       "</style>\n",
       "<table border=\"1\" class=\"dataframe\">\n",
       "  <thead>\n",
       "    <tr style=\"text-align: right;\">\n",
       "      <th></th>\n",
       "      <th>Season</th>\n",
       "      <th>Episode</th>\n",
       "      <th>Character</th>\n",
       "      <th>Line</th>\n",
       "      <th>cleaned_text</th>\n",
       "      <th>dialogue_length</th>\n",
       "    </tr>\n",
       "  </thead>\n",
       "  <tbody>\n",
       "    <tr>\n",
       "      <td>17904</td>\n",
       "      <td>15</td>\n",
       "      <td>5</td>\n",
       "      <td>Cartman</td>\n",
       "      <td>He is real, you guys.</td>\n",
       "      <td>[real, guys]</td>\n",
       "      <td>2</td>\n",
       "    </tr>\n",
       "    <tr>\n",
       "      <td>22929</td>\n",
       "      <td>16</td>\n",
       "      <td>14</td>\n",
       "      <td>Kyle</td>\n",
       "      <td>What did Cartman tell you?!</td>\n",
       "      <td>[cartman, tell]</td>\n",
       "      <td>2</td>\n",
       "    </tr>\n",
       "    <tr>\n",
       "      <td>8957</td>\n",
       "      <td>12</td>\n",
       "      <td>9</td>\n",
       "      <td>Cartman</td>\n",
       "      <td>Told you guys.</td>\n",
       "      <td>[told, guys]</td>\n",
       "      <td>2</td>\n",
       "    </tr>\n",
       "    <tr>\n",
       "      <td>8958</td>\n",
       "      <td>12</td>\n",
       "      <td>9</td>\n",
       "      <td>Stan</td>\n",
       "      <td>Ugh, I'm glad that's over with.</td>\n",
       "      <td>[ugh, glad]</td>\n",
       "      <td>2</td>\n",
       "    </tr>\n",
       "    <tr>\n",
       "      <td>59149</td>\n",
       "      <td>6</td>\n",
       "      <td>16</td>\n",
       "      <td>Stan</td>\n",
       "      <td>That's not neato, that sucks.</td>\n",
       "      <td>[neato, sucks]</td>\n",
       "      <td>2</td>\n",
       "    </tr>\n",
       "  </tbody>\n",
       "</table>\n",
       "</div>"
      ],
      "text/plain": [
       "      Season Episode Character                              Line  \\\n",
       "17904     15       5   Cartman           He is real, you guys.     \n",
       "22929     16      14      Kyle      What did Cartman tell you?!    \n",
       "8957      12       9   Cartman                   Told you guys.    \n",
       "8958      12       9      Stan  Ugh, I'm glad that's over with.    \n",
       "59149      6      16      Stan    That's not neato, that sucks.    \n",
       "\n",
       "          cleaned_text  dialogue_length  \n",
       "17904     [real, guys]                2  \n",
       "22929  [cartman, tell]                2  \n",
       "8957      [told, guys]                2  \n",
       "8958       [ugh, glad]                2  \n",
       "59149   [neato, sucks]                2  "
      ]
     },
     "execution_count": 30,
     "metadata": {},
     "output_type": "execute_result"
    }
   ],
   "source": [
    "df.sort_values('dialogue_length', inplace=True)\n",
    "df.head()"
   ]
  },
  {
   "cell_type": "code",
   "execution_count": 34,
   "metadata": {},
   "outputs": [
    {
     "name": "stdout",
     "output_type": "stream",
     "text": [
      "Line length statistics:\n",
      " count    23917.000000\n",
      "mean         6.592591\n",
      "std          6.268336\n",
      "min          2.000000\n",
      "25%          3.000000\n",
      "50%          5.000000\n",
      "75%          8.000000\n",
      "max        133.000000\n",
      "Name: dialogue_length, dtype: float64\n"
     ]
    },
    {
     "data": {
      "text/plain": [
       "array([[<matplotlib.axes._subplots.AxesSubplot object at 0x00000187F6782D88>,\n",
       "        <matplotlib.axes._subplots.AxesSubplot object at 0x00000187F6CE82C8>],\n",
       "       [<matplotlib.axes._subplots.AxesSubplot object at 0x00000187F6879A88>,\n",
       "        <matplotlib.axes._subplots.AxesSubplot object at 0x00000187F68B24C8>],\n",
       "       [<matplotlib.axes._subplots.AxesSubplot object at 0x00000187F68EBE88>,\n",
       "        <matplotlib.axes._subplots.AxesSubplot object at 0x00000187F6923888>]],\n",
       "      dtype=object)"
      ]
     },
     "execution_count": 34,
     "metadata": {},
     "output_type": "execute_result"
    },
    {
     "data": {
      "image/png": "[encoded data removed]",
      "text/plain": [
       "<Figure size 1296x1152 with 6 Axes>"
      ]
     },
     "metadata": {
      "needs_background": "light"
     },
     "output_type": "display_data"
    }
   ],
   "source": [
    "print('Line length statistics:\\n', df['dialogue_length'].describe())\n",
    "df.hist(column='dialogue_length',by='Character',bins=25, figsize=(18,16))"
   ]
  },
  {
   "cell_type": "code",
   "execution_count": 41,
   "metadata": {},
   "outputs": [],
   "source": [
    "### Dialogue qui apparait plus que 6 fois\n",
    "df = df[df['dialogue_length']>6]"
   ]
  },
  {
   "cell_type": "code",
   "execution_count": 42,
   "metadata": {},
   "outputs": [
    {
     "data": {
      "text/html": [
       "<div>\n",
       "<style scoped>\n",
       "    .dataframe tbody tr th:only-of-type {\n",
       "        vertical-align: middle;\n",
       "    }\n",
       "\n",
       "    .dataframe tbody tr th {\n",
       "        vertical-align: top;\n",
       "    }\n",
       "\n",
       "    .dataframe thead th {\n",
       "        text-align: right;\n",
       "    }\n",
       "</style>\n",
       "<table border=\"1\" class=\"dataframe\">\n",
       "  <thead>\n",
       "    <tr style=\"text-align: right;\">\n",
       "      <th></th>\n",
       "      <th>Season</th>\n",
       "      <th>Episode</th>\n",
       "      <th>Character</th>\n",
       "      <th>Line</th>\n",
       "      <th>cleaned_text</th>\n",
       "      <th>dialogue_length</th>\n",
       "    </tr>\n",
       "  </thead>\n",
       "  <tbody>\n",
       "    <tr>\n",
       "      <td>29651</td>\n",
       "      <td>1</td>\n",
       "      <td>6</td>\n",
       "      <td>Kyle</td>\n",
       "      <td>Well, then you should. I think that a person h...</td>\n",
       "      <td>[well, think, person, right, die, wan, na]</td>\n",
       "      <td>7</td>\n",
       "    </tr>\n",
       "    <tr>\n",
       "      <td>60983</td>\n",
       "      <td>7</td>\n",
       "      <td>6</td>\n",
       "      <td>Cartman</td>\n",
       "      <td>Bash, bash, BASH your skull in, causing instan...</td>\n",
       "      <td>[bash, bash, bash, skull, causing, instant, de...</td>\n",
       "      <td>7</td>\n",
       "    </tr>\n",
       "    <tr>\n",
       "      <td>9043</td>\n",
       "      <td>12</td>\n",
       "      <td>10</td>\n",
       "      <td>Randy</td>\n",
       "      <td>Oh look! Stan's eating a tater-tot! Wave to th...</td>\n",
       "      <td>[oh, look, stan, eating, wave, camera, stan]</td>\n",
       "      <td>7</td>\n",
       "    </tr>\n",
       "    <tr>\n",
       "      <td>65532</td>\n",
       "      <td>8</td>\n",
       "      <td>7</td>\n",
       "      <td>Stan</td>\n",
       "      <td>Dude, wait, wait, ho- hold on. Wait a second. ...</td>\n",
       "      <td>[dude, wait, wait, hold, wait, second, gay]</td>\n",
       "      <td>7</td>\n",
       "    </tr>\n",
       "    <tr>\n",
       "      <td>43072</td>\n",
       "      <td>3</td>\n",
       "      <td>14</td>\n",
       "      <td>Kyle</td>\n",
       "      <td>Yeah. He doesn't even know that the South lose...</td>\n",
       "      <td>[yeah, even, know, south, loses, civil, war]</td>\n",
       "      <td>7</td>\n",
       "    </tr>\n",
       "  </tbody>\n",
       "</table>\n",
       "</div>"
      ],
      "text/plain": [
       "      Season Episode Character  \\\n",
       "29651      1       6      Kyle   \n",
       "60983      7       6   Cartman   \n",
       "9043      12      10     Randy   \n",
       "65532      8       7      Stan   \n",
       "43072      3      14      Kyle   \n",
       "\n",
       "                                                    Line  \\\n",
       "29651  Well, then you should. I think that a person h...   \n",
       "60983  Bash, bash, BASH your skull in, causing instan...   \n",
       "9043   Oh look! Stan's eating a tater-tot! Wave to th...   \n",
       "65532  Dude, wait, wait, ho- hold on. Wait a second. ...   \n",
       "43072  Yeah. He doesn't even know that the South lose...   \n",
       "\n",
       "                                            cleaned_text  dialogue_length  \n",
       "29651         [well, think, person, right, die, wan, na]                7  \n",
       "60983  [bash, bash, bash, skull, causing, instant, de...                7  \n",
       "9043        [oh, look, stan, eating, wave, camera, stan]                7  \n",
       "65532        [dude, wait, wait, hold, wait, second, gay]                7  \n",
       "43072       [yeah, even, know, south, loses, civil, war]                7  "
      ]
     },
     "execution_count": 42,
     "metadata": {},
     "output_type": "execute_result"
    }
   ],
   "source": [
    "df.head()"
   ]
  },
  {
   "cell_type": "code",
   "execution_count": 44,
   "metadata": {},
   "outputs": [
    {
     "name": "stdout",
     "output_type": "stream",
     "text": [
      "[('na', 1393), ('get', 1116), ('gon', 1042), ('oh', 1031), ('know', 960), ('go', 926), ('like', 916), ('got', 850), ('guys', 822), ('well', 810), ('right', 786), ('kyle', 750), ('us', 721), ('yeah', 696), ('people', 689), ('see', 670), ('come', 605), ('think', 597), ('dude', 569), ('let', 565), ('ca', 533), ('uh', 522), ('one', 516), ('look', 506), ('time', 492), ('really', 492), ('okay', 455), ('back', 454), ('hey', 425), ('kenny', 417)]\n"
     ]
    }
   ],
   "source": [
    "# Les termes les plus courants du corpus\n",
    "freq = nltk.FreqDist(np.hstack(df['cleaned_text']))\n",
    "\n",
    "# Les 30 termes les plus courants du corpus\n",
    "print(freq.most_common(30))"
   ]
  },
  {
   "cell_type": "code",
   "execution_count": 47,
   "metadata": {},
   "outputs": [
    {
     "data": {
      "text/plain": [
       "[('well', 'think'),\n",
       " ('think', 'person'),\n",
       " ('person', 'right'),\n",
       " ('right', 'die'),\n",
       " ('die', 'wan'),\n",
       " ('wan', 'na'),\n",
       " ('na', 'bash'),\n",
       " ('bash', 'bash'),\n",
       " ('bash', 'bash'),\n",
       " ('bash', 'skull'),\n",
       " ('skull', 'causing'),\n",
       " ('causing', 'instant'),\n",
       " ('instant', 'death'),\n",
       " ('death', 'oh'),\n",
       " ('oh', 'look')]"
      ]
     },
     "execution_count": 47,
     "metadata": {},
     "output_type": "execute_result"
    }
   ],
   "source": [
    "# List des Co-occurences\n",
    "list(nltk.ngrams(np.hstack(df['cleaned_text']),2))[:15]"
   ]
  },
  {
   "cell_type": "code",
   "execution_count": 48,
   "metadata": {},
   "outputs": [],
   "source": [
    "#### Convertion de la liste des mots des dialogues au format text\n",
    "df['cleaned_text'] = df['cleaned_text'].apply(lambda x: ' '.join([item for item in x]))"
   ]
  },
  {
   "cell_type": "code",
   "execution_count": 51,
   "metadata": {},
   "outputs": [
    {
     "name": "stdout",
     "output_type": "stream",
     "text": [
      "8219\n",
      "Cartman    3497\n",
      "Stan       1642\n",
      "Kyle       1479\n",
      "Randy       844\n",
      "Butters     757\n",
      "Name: Character, dtype: int64\n"
     ]
    }
   ],
   "source": [
    "print(df.shape[0])\n",
    "print(df['Character'].value_counts())"
   ]
  },
  {
   "cell_type": "markdown",
   "metadata": {},
   "source": [
    "### 3.1.1. Lemmatization"
   ]
  },
  {
   "cell_type": "code",
   "execution_count": 58,
   "metadata": {},
   "outputs": [],
   "source": [
    "from nltk.corpus import wordnet\n",
    "from nltk.stem.wordnet import WordNetLemmatizer"
   ]
  },
  {
   "cell_type": "code",
   "execution_count": 59,
   "metadata": {},
   "outputs": [],
   "source": [
    "POS_TAG_CORRESPONDANCE = {\"j\": wordnet.ADJ,\n",
    "                              \"n\": wordnet.NOUN, \n",
    "                              \"v\": wordnet.VERB, \n",
    "                              \"r\": wordnet.ADV}"
   ]
  },
  {
   "cell_type": "code",
   "execution_count": 60,
   "metadata": {},
   "outputs": [],
   "source": [
    "# Initialiser WordNet Lemmatizer\n",
    "lemmatizer = WordNetLemmatizer()\n",
    "\n",
    "def lemmatisation(phrase):\n",
    "    #Dictionnaire pour definir les correspondance entre la valeur renvoyé par nltk.pos_tag et Wordnet \n",
    "    #qu'on passera en paramètre\n",
    "    POS_TAG_CORRESPONDANCE = {\"j\": wordnet.ADJ,\n",
    "                              \"n\": wordnet.NOUN, \n",
    "                              \"v\": wordnet.VERB, \n",
    "                              \"r\": wordnet.ADV}\n",
    "\n",
    "    # Appliquer la lemmatization en fonction du pos_tag.\n",
    "    tokens = nltk.word_tokenize(phrase)\n",
    "    for idx, word in enumerate(nltk.pos_tag(tokens)):\n",
    "        #print(word)\n",
    "        l = word[1][0].lower()\n",
    "        if l in POS_TAG_CORRESPONDANCE.keys():\n",
    "            pos_tag_word = POS_TAG_CORRESPONDANCE.get(l)\n",
    "        else:\n",
    "            pos_tag_word = wordnet.NOUN\n",
    "        #print(pos_tag_word)\n",
    "        tokens[idx] = lemmatizer.lemmatize(word[0], pos_tag_word)\n",
    "        \n",
    "        #print(lemmatizer.lemmatize(word[0], tag_word))\n",
    "                             \n",
    "    if len(tokens) > 1:\n",
    "        return tokens\n",
    "    return None\n",
    "\n",
    "df['lemmatized_text'] = df['cleaned_text'].apply(lemmatisation)\n",
    "df['lemmatized_text'] = df['lemmatized_text'].apply(lambda x: ' '.join([item for item in x]))"
   ]
  },
  {
   "cell_type": "code",
   "execution_count": 61,
   "metadata": {},
   "outputs": [
    {
     "data": {
      "text/html": [
       "<div>\n",
       "<style scoped>\n",
       "    .dataframe tbody tr th:only-of-type {\n",
       "        vertical-align: middle;\n",
       "    }\n",
       "\n",
       "    .dataframe tbody tr th {\n",
       "        vertical-align: top;\n",
       "    }\n",
       "\n",
       "    .dataframe thead th {\n",
       "        text-align: right;\n",
       "    }\n",
       "</style>\n",
       "<table border=\"1\" class=\"dataframe\">\n",
       "  <thead>\n",
       "    <tr style=\"text-align: right;\">\n",
       "      <th></th>\n",
       "      <th>Season</th>\n",
       "      <th>Episode</th>\n",
       "      <th>Character</th>\n",
       "      <th>Line</th>\n",
       "      <th>cleaned_text</th>\n",
       "      <th>dialogue_length</th>\n",
       "      <th>lemmatized_text</th>\n",
       "    </tr>\n",
       "  </thead>\n",
       "  <tbody>\n",
       "    <tr>\n",
       "      <td>29651</td>\n",
       "      <td>1</td>\n",
       "      <td>6</td>\n",
       "      <td>Kyle</td>\n",
       "      <td>Well, then you should. I think that a person h...</td>\n",
       "      <td>well think person right die wan na</td>\n",
       "      <td>7</td>\n",
       "      <td>well think person right die wan na</td>\n",
       "    </tr>\n",
       "    <tr>\n",
       "      <td>60983</td>\n",
       "      <td>7</td>\n",
       "      <td>6</td>\n",
       "      <td>Cartman</td>\n",
       "      <td>Bash, bash, BASH your skull in, causing instan...</td>\n",
       "      <td>bash bash bash skull causing instant death</td>\n",
       "      <td>7</td>\n",
       "      <td>bash bash bash skull cause instant death</td>\n",
       "    </tr>\n",
       "    <tr>\n",
       "      <td>9043</td>\n",
       "      <td>12</td>\n",
       "      <td>10</td>\n",
       "      <td>Randy</td>\n",
       "      <td>Oh look! Stan's eating a tater-tot! Wave to th...</td>\n",
       "      <td>oh look stan eating wave camera stan</td>\n",
       "      <td>7</td>\n",
       "      <td>oh look stan eating wave camera stan</td>\n",
       "    </tr>\n",
       "    <tr>\n",
       "      <td>65532</td>\n",
       "      <td>8</td>\n",
       "      <td>7</td>\n",
       "      <td>Stan</td>\n",
       "      <td>Dude, wait, wait, ho- hold on. Wait a second. ...</td>\n",
       "      <td>dude wait wait hold wait second gay</td>\n",
       "      <td>7</td>\n",
       "      <td>dude wait wait hold wait second gay</td>\n",
       "    </tr>\n",
       "    <tr>\n",
       "      <td>43072</td>\n",
       "      <td>3</td>\n",
       "      <td>14</td>\n",
       "      <td>Kyle</td>\n",
       "      <td>Yeah. He doesn't even know that the South lose...</td>\n",
       "      <td>yeah even know south loses civil war</td>\n",
       "      <td>7</td>\n",
       "      <td>yeah even know south loses civil war</td>\n",
       "    </tr>\n",
       "  </tbody>\n",
       "</table>\n",
       "</div>"
      ],
      "text/plain": [
       "      Season Episode Character  \\\n",
       "29651      1       6      Kyle   \n",
       "60983      7       6   Cartman   \n",
       "9043      12      10     Randy   \n",
       "65532      8       7      Stan   \n",
       "43072      3      14      Kyle   \n",
       "\n",
       "                                                    Line  \\\n",
       "29651  Well, then you should. I think that a person h...   \n",
       "60983  Bash, bash, BASH your skull in, causing instan...   \n",
       "9043   Oh look! Stan's eating a tater-tot! Wave to th...   \n",
       "65532  Dude, wait, wait, ho- hold on. Wait a second. ...   \n",
       "43072  Yeah. He doesn't even know that the South lose...   \n",
       "\n",
       "                                     cleaned_text  dialogue_length  \\\n",
       "29651          well think person right die wan na                7   \n",
       "60983  bash bash bash skull causing instant death                7   \n",
       "9043         oh look stan eating wave camera stan                7   \n",
       "65532         dude wait wait hold wait second gay                7   \n",
       "43072        yeah even know south loses civil war                7   \n",
       "\n",
       "                                lemmatized_text  \n",
       "29651        well think person right die wan na  \n",
       "60983  bash bash bash skull cause instant death  \n",
       "9043       oh look stan eating wave camera stan  \n",
       "65532       dude wait wait hold wait second gay  \n",
       "43072      yeah even know south loses civil war  "
      ]
     },
     "execution_count": 61,
     "metadata": {},
     "output_type": "execute_result"
    }
   ],
   "source": [
    "df.head()"
   ]
  },
  {
   "cell_type": "markdown",
   "metadata": {},
   "source": [
    "### 3.1.2. Racinisation"
   ]
  },
  {
   "cell_type": "code",
   "execution_count": 62,
   "metadata": {},
   "outputs": [],
   "source": [
    "from nltk.stem.snowball import EnglishStemmer\n",
    "stemmer = EnglishStemmer()"
   ]
  },
  {
   "cell_type": "code",
   "execution_count": 63,
   "metadata": {},
   "outputs": [],
   "source": [
    "def preprocess_stemming(phrase):\n",
    "    \n",
    "    #Tokenisation\n",
    "    tokens = nltk.word_tokenize(phrase)\n",
    "    \n",
    "    # La racinisation\n",
    "    tokens = [stemmer.stem(token) for token in tokens ]\n",
    "                             \n",
    "    if len(tokens) > 1:\n",
    "        return tokens\n",
    "    return None\n",
    "\n",
    "df['stemming_text'] = df['cleaned_text'].apply(preprocess_stemming)\n",
    "df['stemming_text'] = df['stemming_text'].apply(lambda x: ' '.join([item for item in x]))"
   ]
  },
  {
   "cell_type": "code",
   "execution_count": 64,
   "metadata": {},
   "outputs": [
    {
     "data": {
      "text/html": [
       "<div>\n",
       "<style scoped>\n",
       "    .dataframe tbody tr th:only-of-type {\n",
       "        vertical-align: middle;\n",
       "    }\n",
       "\n",
       "    .dataframe tbody tr th {\n",
       "        vertical-align: top;\n",
       "    }\n",
       "\n",
       "    .dataframe thead th {\n",
       "        text-align: right;\n",
       "    }\n",
       "</style>\n",
       "<table border=\"1\" class=\"dataframe\">\n",
       "  <thead>\n",
       "    <tr style=\"text-align: right;\">\n",
       "      <th></th>\n",
       "      <th>Season</th>\n",
       "      <th>Episode</th>\n",
       "      <th>Character</th>\n",
       "      <th>Line</th>\n",
       "      <th>cleaned_text</th>\n",
       "      <th>dialogue_length</th>\n",
       "      <th>lemmatized_text</th>\n",
       "      <th>stemming_text</th>\n",
       "    </tr>\n",
       "  </thead>\n",
       "  <tbody>\n",
       "    <tr>\n",
       "      <td>29651</td>\n",
       "      <td>1</td>\n",
       "      <td>6</td>\n",
       "      <td>Kyle</td>\n",
       "      <td>Well, then you should. I think that a person h...</td>\n",
       "      <td>well think person right die wan na</td>\n",
       "      <td>7</td>\n",
       "      <td>well think person right die wan na</td>\n",
       "      <td>well think person right die wan na</td>\n",
       "    </tr>\n",
       "    <tr>\n",
       "      <td>60983</td>\n",
       "      <td>7</td>\n",
       "      <td>6</td>\n",
       "      <td>Cartman</td>\n",
       "      <td>Bash, bash, BASH your skull in, causing instan...</td>\n",
       "      <td>bash bash bash skull causing instant death</td>\n",
       "      <td>7</td>\n",
       "      <td>bash bash bash skull cause instant death</td>\n",
       "      <td>bash bash bash skull caus instant death</td>\n",
       "    </tr>\n",
       "    <tr>\n",
       "      <td>9043</td>\n",
       "      <td>12</td>\n",
       "      <td>10</td>\n",
       "      <td>Randy</td>\n",
       "      <td>Oh look! Stan's eating a tater-tot! Wave to th...</td>\n",
       "      <td>oh look stan eating wave camera stan</td>\n",
       "      <td>7</td>\n",
       "      <td>oh look stan eating wave camera stan</td>\n",
       "      <td>oh look stan eat wave camera stan</td>\n",
       "    </tr>\n",
       "    <tr>\n",
       "      <td>65532</td>\n",
       "      <td>8</td>\n",
       "      <td>7</td>\n",
       "      <td>Stan</td>\n",
       "      <td>Dude, wait, wait, ho- hold on. Wait a second. ...</td>\n",
       "      <td>dude wait wait hold wait second gay</td>\n",
       "      <td>7</td>\n",
       "      <td>dude wait wait hold wait second gay</td>\n",
       "      <td>dude wait wait hold wait second gay</td>\n",
       "    </tr>\n",
       "    <tr>\n",
       "      <td>43072</td>\n",
       "      <td>3</td>\n",
       "      <td>14</td>\n",
       "      <td>Kyle</td>\n",
       "      <td>Yeah. He doesn't even know that the South lose...</td>\n",
       "      <td>yeah even know south loses civil war</td>\n",
       "      <td>7</td>\n",
       "      <td>yeah even know south loses civil war</td>\n",
       "      <td>yeah even know south lose civil war</td>\n",
       "    </tr>\n",
       "  </tbody>\n",
       "</table>\n",
       "</div>"
      ],
      "text/plain": [
       "      Season Episode Character  \\\n",
       "29651      1       6      Kyle   \n",
       "60983      7       6   Cartman   \n",
       "9043      12      10     Randy   \n",
       "65532      8       7      Stan   \n",
       "43072      3      14      Kyle   \n",
       "\n",
       "                                                    Line  \\\n",
       "29651  Well, then you should. I think that a person h...   \n",
       "60983  Bash, bash, BASH your skull in, causing instan...   \n",
       "9043   Oh look! Stan's eating a tater-tot! Wave to th...   \n",
       "65532  Dude, wait, wait, ho- hold on. Wait a second. ...   \n",
       "43072  Yeah. He doesn't even know that the South lose...   \n",
       "\n",
       "                                     cleaned_text  dialogue_length  \\\n",
       "29651          well think person right die wan na                7   \n",
       "60983  bash bash bash skull causing instant death                7   \n",
       "9043         oh look stan eating wave camera stan                7   \n",
       "65532         dude wait wait hold wait second gay                7   \n",
       "43072        yeah even know south loses civil war                7   \n",
       "\n",
       "                                lemmatized_text  \\\n",
       "29651        well think person right die wan na   \n",
       "60983  bash bash bash skull cause instant death   \n",
       "9043       oh look stan eating wave camera stan   \n",
       "65532       dude wait wait hold wait second gay   \n",
       "43072      yeah even know south loses civil war   \n",
       "\n",
       "                                 stemming_text  \n",
       "29651       well think person right die wan na  \n",
       "60983  bash bash bash skull caus instant death  \n",
       "9043         oh look stan eat wave camera stan  \n",
       "65532      dude wait wait hold wait second gay  \n",
       "43072      yeah even know south lose civil war  "
      ]
     },
     "execution_count": 64,
     "metadata": {},
     "output_type": "execute_result"
    }
   ],
   "source": [
    "df.head()"
   ]
  },
  {
   "cell_type": "markdown",
   "metadata": {},
   "source": [
    "## 4. Representation des mots"
   ]
  },
  {
   "cell_type": "markdown",
   "metadata": {},
   "source": [
    "### 4.1. « *bag of words* » (sac de mots)"
   ]
  },
  {
   "cell_type": "code",
   "execution_count": 68,
   "metadata": {},
   "outputs": [],
   "source": [
    "from sklearn.feature_extraction.text import CountVectorizer"
   ]
  },
  {
   "cell_type": "code",
   "execution_count": 69,
   "metadata": {},
   "outputs": [
    {
     "data": {
      "text/html": [
       "<div>\n",
       "<style scoped>\n",
       "    .dataframe tbody tr th:only-of-type {\n",
       "        vertical-align: middle;\n",
       "    }\n",
       "\n",
       "    .dataframe tbody tr th {\n",
       "        vertical-align: top;\n",
       "    }\n",
       "\n",
       "    .dataframe thead th {\n",
       "        text-align: right;\n",
       "    }\n",
       "</style>\n",
       "<table border=\"1\" class=\"dataframe\">\n",
       "  <thead>\n",
       "    <tr style=\"text-align: right;\">\n",
       "      <th></th>\n",
       "      <th>0</th>\n",
       "      <th>1</th>\n",
       "      <th>2</th>\n",
       "      <th>3</th>\n",
       "      <th>4</th>\n",
       "      <th>5</th>\n",
       "      <th>6</th>\n",
       "      <th>7</th>\n",
       "      <th>8</th>\n",
       "      <th>9</th>\n",
       "      <th>...</th>\n",
       "      <th>8209</th>\n",
       "      <th>8210</th>\n",
       "      <th>8211</th>\n",
       "      <th>8212</th>\n",
       "      <th>8213</th>\n",
       "      <th>8214</th>\n",
       "      <th>8215</th>\n",
       "      <th>8216</th>\n",
       "      <th>8217</th>\n",
       "      <th>8218</th>\n",
       "    </tr>\n",
       "  </thead>\n",
       "  <tbody>\n",
       "    <tr>\n",
       "      <td>aa</td>\n",
       "      <td>0</td>\n",
       "      <td>0</td>\n",
       "      <td>0</td>\n",
       "      <td>0</td>\n",
       "      <td>0</td>\n",
       "      <td>0</td>\n",
       "      <td>0</td>\n",
       "      <td>0</td>\n",
       "      <td>0</td>\n",
       "      <td>0</td>\n",
       "      <td>...</td>\n",
       "      <td>0</td>\n",
       "      <td>0</td>\n",
       "      <td>0</td>\n",
       "      <td>0</td>\n",
       "      <td>0</td>\n",
       "      <td>0</td>\n",
       "      <td>0</td>\n",
       "      <td>0</td>\n",
       "      <td>0</td>\n",
       "      <td>0</td>\n",
       "    </tr>\n",
       "    <tr>\n",
       "      <td>aaaah</td>\n",
       "      <td>0</td>\n",
       "      <td>0</td>\n",
       "      <td>0</td>\n",
       "      <td>0</td>\n",
       "      <td>0</td>\n",
       "      <td>0</td>\n",
       "      <td>0</td>\n",
       "      <td>0</td>\n",
       "      <td>0</td>\n",
       "      <td>0</td>\n",
       "      <td>...</td>\n",
       "      <td>0</td>\n",
       "      <td>0</td>\n",
       "      <td>0</td>\n",
       "      <td>0</td>\n",
       "      <td>0</td>\n",
       "      <td>0</td>\n",
       "      <td>0</td>\n",
       "      <td>0</td>\n",
       "      <td>0</td>\n",
       "      <td>0</td>\n",
       "    </tr>\n",
       "    <tr>\n",
       "      <td>aaah</td>\n",
       "      <td>0</td>\n",
       "      <td>0</td>\n",
       "      <td>0</td>\n",
       "      <td>0</td>\n",
       "      <td>0</td>\n",
       "      <td>0</td>\n",
       "      <td>0</td>\n",
       "      <td>0</td>\n",
       "      <td>0</td>\n",
       "      <td>0</td>\n",
       "      <td>...</td>\n",
       "      <td>0</td>\n",
       "      <td>0</td>\n",
       "      <td>0</td>\n",
       "      <td>0</td>\n",
       "      <td>0</td>\n",
       "      <td>0</td>\n",
       "      <td>0</td>\n",
       "      <td>0</td>\n",
       "      <td>0</td>\n",
       "      <td>0</td>\n",
       "    </tr>\n",
       "    <tr>\n",
       "      <td>aaahhh</td>\n",
       "      <td>0</td>\n",
       "      <td>0</td>\n",
       "      <td>0</td>\n",
       "      <td>0</td>\n",
       "      <td>0</td>\n",
       "      <td>0</td>\n",
       "      <td>0</td>\n",
       "      <td>0</td>\n",
       "      <td>0</td>\n",
       "      <td>0</td>\n",
       "      <td>...</td>\n",
       "      <td>0</td>\n",
       "      <td>0</td>\n",
       "      <td>0</td>\n",
       "      <td>0</td>\n",
       "      <td>0</td>\n",
       "      <td>0</td>\n",
       "      <td>0</td>\n",
       "      <td>0</td>\n",
       "      <td>0</td>\n",
       "      <td>0</td>\n",
       "    </tr>\n",
       "    <tr>\n",
       "      <td>aaand</td>\n",
       "      <td>0</td>\n",
       "      <td>0</td>\n",
       "      <td>0</td>\n",
       "      <td>0</td>\n",
       "      <td>0</td>\n",
       "      <td>0</td>\n",
       "      <td>0</td>\n",
       "      <td>0</td>\n",
       "      <td>0</td>\n",
       "      <td>0</td>\n",
       "      <td>...</td>\n",
       "      <td>0</td>\n",
       "      <td>0</td>\n",
       "      <td>0</td>\n",
       "      <td>0</td>\n",
       "      <td>0</td>\n",
       "      <td>0</td>\n",
       "      <td>0</td>\n",
       "      <td>0</td>\n",
       "      <td>0</td>\n",
       "      <td>0</td>\n",
       "    </tr>\n",
       "    <tr>\n",
       "      <td>aah</td>\n",
       "      <td>0</td>\n",
       "      <td>0</td>\n",
       "      <td>0</td>\n",
       "      <td>0</td>\n",
       "      <td>0</td>\n",
       "      <td>0</td>\n",
       "      <td>0</td>\n",
       "      <td>0</td>\n",
       "      <td>0</td>\n",
       "      <td>0</td>\n",
       "      <td>...</td>\n",
       "      <td>0</td>\n",
       "      <td>0</td>\n",
       "      <td>0</td>\n",
       "      <td>0</td>\n",
       "      <td>0</td>\n",
       "      <td>0</td>\n",
       "      <td>0</td>\n",
       "      <td>0</td>\n",
       "      <td>0</td>\n",
       "      <td>0</td>\n",
       "    </tr>\n",
       "    <tr>\n",
       "      <td>ability</td>\n",
       "      <td>0</td>\n",
       "      <td>0</td>\n",
       "      <td>0</td>\n",
       "      <td>0</td>\n",
       "      <td>0</td>\n",
       "      <td>0</td>\n",
       "      <td>0</td>\n",
       "      <td>0</td>\n",
       "      <td>0</td>\n",
       "      <td>0</td>\n",
       "      <td>...</td>\n",
       "      <td>0</td>\n",
       "      <td>0</td>\n",
       "      <td>0</td>\n",
       "      <td>0</td>\n",
       "      <td>0</td>\n",
       "      <td>0</td>\n",
       "      <td>0</td>\n",
       "      <td>0</td>\n",
       "      <td>0</td>\n",
       "      <td>0</td>\n",
       "    </tr>\n",
       "    <tr>\n",
       "      <td>able</td>\n",
       "      <td>0</td>\n",
       "      <td>0</td>\n",
       "      <td>0</td>\n",
       "      <td>0</td>\n",
       "      <td>0</td>\n",
       "      <td>0</td>\n",
       "      <td>0</td>\n",
       "      <td>0</td>\n",
       "      <td>0</td>\n",
       "      <td>0</td>\n",
       "      <td>...</td>\n",
       "      <td>0</td>\n",
       "      <td>0</td>\n",
       "      <td>0</td>\n",
       "      <td>0</td>\n",
       "      <td>0</td>\n",
       "      <td>0</td>\n",
       "      <td>0</td>\n",
       "      <td>0</td>\n",
       "      <td>0</td>\n",
       "      <td>0</td>\n",
       "    </tr>\n",
       "    <tr>\n",
       "      <td>aborted</td>\n",
       "      <td>0</td>\n",
       "      <td>0</td>\n",
       "      <td>0</td>\n",
       "      <td>0</td>\n",
       "      <td>0</td>\n",
       "      <td>0</td>\n",
       "      <td>0</td>\n",
       "      <td>0</td>\n",
       "      <td>0</td>\n",
       "      <td>0</td>\n",
       "      <td>...</td>\n",
       "      <td>1</td>\n",
       "      <td>0</td>\n",
       "      <td>0</td>\n",
       "      <td>0</td>\n",
       "      <td>0</td>\n",
       "      <td>0</td>\n",
       "      <td>0</td>\n",
       "      <td>0</td>\n",
       "      <td>2</td>\n",
       "      <td>0</td>\n",
       "    </tr>\n",
       "    <tr>\n",
       "      <td>abortion</td>\n",
       "      <td>0</td>\n",
       "      <td>0</td>\n",
       "      <td>0</td>\n",
       "      <td>0</td>\n",
       "      <td>0</td>\n",
       "      <td>0</td>\n",
       "      <td>0</td>\n",
       "      <td>0</td>\n",
       "      <td>0</td>\n",
       "      <td>0</td>\n",
       "      <td>...</td>\n",
       "      <td>0</td>\n",
       "      <td>0</td>\n",
       "      <td>0</td>\n",
       "      <td>0</td>\n",
       "      <td>0</td>\n",
       "      <td>0</td>\n",
       "      <td>0</td>\n",
       "      <td>0</td>\n",
       "      <td>0</td>\n",
       "      <td>0</td>\n",
       "    </tr>\n",
       "  </tbody>\n",
       "</table>\n",
       "<p>10 rows × 8219 columns</p>\n",
       "</div>"
      ],
      "text/plain": [
       "          0     1     2     3     4     5     6     7     8     9     ...  \\\n",
       "aa           0     0     0     0     0     0     0     0     0     0  ...   \n",
       "aaaah        0     0     0     0     0     0     0     0     0     0  ...   \n",
       "aaah         0     0     0     0     0     0     0     0     0     0  ...   \n",
       "aaahhh       0     0     0     0     0     0     0     0     0     0  ...   \n",
       "aaand        0     0     0     0     0     0     0     0     0     0  ...   \n",
       "aah          0     0     0     0     0     0     0     0     0     0  ...   \n",
       "ability      0     0     0     0     0     0     0     0     0     0  ...   \n",
       "able         0     0     0     0     0     0     0     0     0     0  ...   \n",
       "aborted      0     0     0     0     0     0     0     0     0     0  ...   \n",
       "abortion     0     0     0     0     0     0     0     0     0     0  ...   \n",
       "\n",
       "          8209  8210  8211  8212  8213  8214  8215  8216  8217  8218  \n",
       "aa           0     0     0     0     0     0     0     0     0     0  \n",
       "aaaah        0     0     0     0     0     0     0     0     0     0  \n",
       "aaah         0     0     0     0     0     0     0     0     0     0  \n",
       "aaahhh       0     0     0     0     0     0     0     0     0     0  \n",
       "aaand        0     0     0     0     0     0     0     0     0     0  \n",
       "aah          0     0     0     0     0     0     0     0     0     0  \n",
       "ability      0     0     0     0     0     0     0     0     0     0  \n",
       "able         0     0     0     0     0     0     0     0     0     0  \n",
       "aborted      1     0     0     0     0     0     0     0     2     0  \n",
       "abortion     0     0     0     0     0     0     0     0     0     0  \n",
       "\n",
       "[10 rows x 8219 columns]"
      ]
     },
     "execution_count": 69,
     "metadata": {},
     "output_type": "execute_result"
    }
   ],
   "source": [
    "vectorizer = CountVectorizer(min_df=4)\n",
    "vectorizer.fit(np.hstack(df['cleaned_text']))\n",
    "\n",
    "X = vectorizer.transform(np.hstack(df['cleaned_text']))\n",
    "\n",
    "pd.DataFrame(X.toarray(), columns=vectorizer.get_feature_names()).T.head(10)"
   ]
  },
  {
   "cell_type": "code",
   "execution_count": 70,
   "metadata": {},
   "outputs": [],
   "source": [
    "from sklearn.feature_extraction.text import TfidfVectorizer"
   ]
  },
  {
   "cell_type": "code",
   "execution_count": 71,
   "metadata": {},
   "outputs": [
    {
     "data": {
      "text/html": [
       "<div>\n",
       "<style scoped>\n",
       "    .dataframe tbody tr th:only-of-type {\n",
       "        vertical-align: middle;\n",
       "    }\n",
       "\n",
       "    .dataframe tbody tr th {\n",
       "        vertical-align: top;\n",
       "    }\n",
       "\n",
       "    .dataframe thead th {\n",
       "        text-align: right;\n",
       "    }\n",
       "</style>\n",
       "<table border=\"1\" class=\"dataframe\">\n",
       "  <thead>\n",
       "    <tr style=\"text-align: right;\">\n",
       "      <th></th>\n",
       "      <th>0</th>\n",
       "      <th>1</th>\n",
       "      <th>2</th>\n",
       "      <th>3</th>\n",
       "      <th>4</th>\n",
       "      <th>5</th>\n",
       "      <th>6</th>\n",
       "      <th>7</th>\n",
       "      <th>8</th>\n",
       "      <th>9</th>\n",
       "      <th>...</th>\n",
       "      <th>8209</th>\n",
       "      <th>8210</th>\n",
       "      <th>8211</th>\n",
       "      <th>8212</th>\n",
       "      <th>8213</th>\n",
       "      <th>8214</th>\n",
       "      <th>8215</th>\n",
       "      <th>8216</th>\n",
       "      <th>8217</th>\n",
       "      <th>8218</th>\n",
       "    </tr>\n",
       "  </thead>\n",
       "  <tbody>\n",
       "    <tr>\n",
       "      <td>aa</td>\n",
       "      <td>0.0</td>\n",
       "      <td>0.0</td>\n",
       "      <td>0.0</td>\n",
       "      <td>0.0</td>\n",
       "      <td>0.0</td>\n",
       "      <td>0.0</td>\n",
       "      <td>0.0</td>\n",
       "      <td>0.0</td>\n",
       "      <td>0.0</td>\n",
       "      <td>0.0</td>\n",
       "      <td>...</td>\n",
       "      <td>0.0</td>\n",
       "      <td>0.0</td>\n",
       "      <td>0.0</td>\n",
       "      <td>0.0</td>\n",
       "      <td>0.0</td>\n",
       "      <td>0.0</td>\n",
       "      <td>0.0</td>\n",
       "      <td>0.0</td>\n",
       "      <td>0.0</td>\n",
       "      <td>0.0</td>\n",
       "    </tr>\n",
       "    <tr>\n",
       "      <td>aaaah</td>\n",
       "      <td>0.0</td>\n",
       "      <td>0.0</td>\n",
       "      <td>0.0</td>\n",
       "      <td>0.0</td>\n",
       "      <td>0.0</td>\n",
       "      <td>0.0</td>\n",
       "      <td>0.0</td>\n",
       "      <td>0.0</td>\n",
       "      <td>0.0</td>\n",
       "      <td>0.0</td>\n",
       "      <td>...</td>\n",
       "      <td>0.0</td>\n",
       "      <td>0.0</td>\n",
       "      <td>0.0</td>\n",
       "      <td>0.0</td>\n",
       "      <td>0.0</td>\n",
       "      <td>0.0</td>\n",
       "      <td>0.0</td>\n",
       "      <td>0.0</td>\n",
       "      <td>0.0</td>\n",
       "      <td>0.0</td>\n",
       "    </tr>\n",
       "    <tr>\n",
       "      <td>aaah</td>\n",
       "      <td>0.0</td>\n",
       "      <td>0.0</td>\n",
       "      <td>0.0</td>\n",
       "      <td>0.0</td>\n",
       "      <td>0.0</td>\n",
       "      <td>0.0</td>\n",
       "      <td>0.0</td>\n",
       "      <td>0.0</td>\n",
       "      <td>0.0</td>\n",
       "      <td>0.0</td>\n",
       "      <td>...</td>\n",
       "      <td>0.0</td>\n",
       "      <td>0.0</td>\n",
       "      <td>0.0</td>\n",
       "      <td>0.0</td>\n",
       "      <td>0.0</td>\n",
       "      <td>0.0</td>\n",
       "      <td>0.0</td>\n",
       "      <td>0.0</td>\n",
       "      <td>0.0</td>\n",
       "      <td>0.0</td>\n",
       "    </tr>\n",
       "    <tr>\n",
       "      <td>aaahhh</td>\n",
       "      <td>0.0</td>\n",
       "      <td>0.0</td>\n",
       "      <td>0.0</td>\n",
       "      <td>0.0</td>\n",
       "      <td>0.0</td>\n",
       "      <td>0.0</td>\n",
       "      <td>0.0</td>\n",
       "      <td>0.0</td>\n",
       "      <td>0.0</td>\n",
       "      <td>0.0</td>\n",
       "      <td>...</td>\n",
       "      <td>0.0</td>\n",
       "      <td>0.0</td>\n",
       "      <td>0.0</td>\n",
       "      <td>0.0</td>\n",
       "      <td>0.0</td>\n",
       "      <td>0.0</td>\n",
       "      <td>0.0</td>\n",
       "      <td>0.0</td>\n",
       "      <td>0.0</td>\n",
       "      <td>0.0</td>\n",
       "    </tr>\n",
       "    <tr>\n",
       "      <td>aaand</td>\n",
       "      <td>0.0</td>\n",
       "      <td>0.0</td>\n",
       "      <td>0.0</td>\n",
       "      <td>0.0</td>\n",
       "      <td>0.0</td>\n",
       "      <td>0.0</td>\n",
       "      <td>0.0</td>\n",
       "      <td>0.0</td>\n",
       "      <td>0.0</td>\n",
       "      <td>0.0</td>\n",
       "      <td>...</td>\n",
       "      <td>0.0</td>\n",
       "      <td>0.0</td>\n",
       "      <td>0.0</td>\n",
       "      <td>0.0</td>\n",
       "      <td>0.0</td>\n",
       "      <td>0.0</td>\n",
       "      <td>0.0</td>\n",
       "      <td>0.0</td>\n",
       "      <td>0.0</td>\n",
       "      <td>0.0</td>\n",
       "    </tr>\n",
       "    <tr>\n",
       "      <td>...</td>\n",
       "      <td>...</td>\n",
       "      <td>...</td>\n",
       "      <td>...</td>\n",
       "      <td>...</td>\n",
       "      <td>...</td>\n",
       "      <td>...</td>\n",
       "      <td>...</td>\n",
       "      <td>...</td>\n",
       "      <td>...</td>\n",
       "      <td>...</td>\n",
       "      <td>...</td>\n",
       "      <td>...</td>\n",
       "      <td>...</td>\n",
       "      <td>...</td>\n",
       "      <td>...</td>\n",
       "      <td>...</td>\n",
       "      <td>...</td>\n",
       "      <td>...</td>\n",
       "      <td>...</td>\n",
       "      <td>...</td>\n",
       "      <td>...</td>\n",
       "    </tr>\n",
       "    <tr>\n",
       "      <td>yup</td>\n",
       "      <td>0.0</td>\n",
       "      <td>0.0</td>\n",
       "      <td>0.0</td>\n",
       "      <td>0.0</td>\n",
       "      <td>0.0</td>\n",
       "      <td>0.0</td>\n",
       "      <td>0.0</td>\n",
       "      <td>0.0</td>\n",
       "      <td>0.0</td>\n",
       "      <td>0.0</td>\n",
       "      <td>...</td>\n",
       "      <td>0.0</td>\n",
       "      <td>0.0</td>\n",
       "      <td>0.0</td>\n",
       "      <td>0.0</td>\n",
       "      <td>0.0</td>\n",
       "      <td>0.0</td>\n",
       "      <td>0.0</td>\n",
       "      <td>0.0</td>\n",
       "      <td>0.0</td>\n",
       "      <td>0.0</td>\n",
       "    </tr>\n",
       "    <tr>\n",
       "      <td>yyeah</td>\n",
       "      <td>0.0</td>\n",
       "      <td>0.0</td>\n",
       "      <td>0.0</td>\n",
       "      <td>0.0</td>\n",
       "      <td>0.0</td>\n",
       "      <td>0.0</td>\n",
       "      <td>0.0</td>\n",
       "      <td>0.0</td>\n",
       "      <td>0.0</td>\n",
       "      <td>0.0</td>\n",
       "      <td>...</td>\n",
       "      <td>0.0</td>\n",
       "      <td>0.0</td>\n",
       "      <td>0.0</td>\n",
       "      <td>0.0</td>\n",
       "      <td>0.0</td>\n",
       "      <td>0.0</td>\n",
       "      <td>0.0</td>\n",
       "      <td>0.0</td>\n",
       "      <td>0.0</td>\n",
       "      <td>0.0</td>\n",
       "    </tr>\n",
       "    <tr>\n",
       "      <td>zero</td>\n",
       "      <td>0.0</td>\n",
       "      <td>0.0</td>\n",
       "      <td>0.0</td>\n",
       "      <td>0.0</td>\n",
       "      <td>0.0</td>\n",
       "      <td>0.0</td>\n",
       "      <td>0.0</td>\n",
       "      <td>0.0</td>\n",
       "      <td>0.0</td>\n",
       "      <td>0.0</td>\n",
       "      <td>...</td>\n",
       "      <td>0.0</td>\n",
       "      <td>0.0</td>\n",
       "      <td>0.0</td>\n",
       "      <td>0.0</td>\n",
       "      <td>0.0</td>\n",
       "      <td>0.0</td>\n",
       "      <td>0.0</td>\n",
       "      <td>0.0</td>\n",
       "      <td>0.0</td>\n",
       "      <td>0.0</td>\n",
       "    </tr>\n",
       "    <tr>\n",
       "      <td>ziplining</td>\n",
       "      <td>0.0</td>\n",
       "      <td>0.0</td>\n",
       "      <td>0.0</td>\n",
       "      <td>0.0</td>\n",
       "      <td>0.0</td>\n",
       "      <td>0.0</td>\n",
       "      <td>0.0</td>\n",
       "      <td>0.0</td>\n",
       "      <td>0.0</td>\n",
       "      <td>0.0</td>\n",
       "      <td>...</td>\n",
       "      <td>0.0</td>\n",
       "      <td>0.0</td>\n",
       "      <td>0.0</td>\n",
       "      <td>0.0</td>\n",
       "      <td>0.0</td>\n",
       "      <td>0.0</td>\n",
       "      <td>0.0</td>\n",
       "      <td>0.0</td>\n",
       "      <td>0.0</td>\n",
       "      <td>0.0</td>\n",
       "    </tr>\n",
       "    <tr>\n",
       "      <td>zombie</td>\n",
       "      <td>0.0</td>\n",
       "      <td>0.0</td>\n",
       "      <td>0.0</td>\n",
       "      <td>0.0</td>\n",
       "      <td>0.0</td>\n",
       "      <td>0.0</td>\n",
       "      <td>0.0</td>\n",
       "      <td>0.0</td>\n",
       "      <td>0.0</td>\n",
       "      <td>0.0</td>\n",
       "      <td>...</td>\n",
       "      <td>0.0</td>\n",
       "      <td>0.0</td>\n",
       "      <td>0.0</td>\n",
       "      <td>0.0</td>\n",
       "      <td>0.0</td>\n",
       "      <td>0.0</td>\n",
       "      <td>0.0</td>\n",
       "      <td>0.0</td>\n",
       "      <td>0.0</td>\n",
       "      <td>0.0</td>\n",
       "    </tr>\n",
       "  </tbody>\n",
       "</table>\n",
       "<p>2942 rows × 8219 columns</p>\n",
       "</div>"
      ],
      "text/plain": [
       "           0     1     2     3     4     5     6     7     8     9     ...  \\\n",
       "aa          0.0   0.0   0.0   0.0   0.0   0.0   0.0   0.0   0.0   0.0  ...   \n",
       "aaaah       0.0   0.0   0.0   0.0   0.0   0.0   0.0   0.0   0.0   0.0  ...   \n",
       "aaah        0.0   0.0   0.0   0.0   0.0   0.0   0.0   0.0   0.0   0.0  ...   \n",
       "aaahhh      0.0   0.0   0.0   0.0   0.0   0.0   0.0   0.0   0.0   0.0  ...   \n",
       "aaand       0.0   0.0   0.0   0.0   0.0   0.0   0.0   0.0   0.0   0.0  ...   \n",
       "...         ...   ...   ...   ...   ...   ...   ...   ...   ...   ...  ...   \n",
       "yup         0.0   0.0   0.0   0.0   0.0   0.0   0.0   0.0   0.0   0.0  ...   \n",
       "yyeah       0.0   0.0   0.0   0.0   0.0   0.0   0.0   0.0   0.0   0.0  ...   \n",
       "zero        0.0   0.0   0.0   0.0   0.0   0.0   0.0   0.0   0.0   0.0  ...   \n",
       "ziplining   0.0   0.0   0.0   0.0   0.0   0.0   0.0   0.0   0.0   0.0  ...   \n",
       "zombie      0.0   0.0   0.0   0.0   0.0   0.0   0.0   0.0   0.0   0.0  ...   \n",
       "\n",
       "           8209  8210  8211  8212  8213  8214  8215  8216  8217  8218  \n",
       "aa          0.0   0.0   0.0   0.0   0.0   0.0   0.0   0.0   0.0   0.0  \n",
       "aaaah       0.0   0.0   0.0   0.0   0.0   0.0   0.0   0.0   0.0   0.0  \n",
       "aaah        0.0   0.0   0.0   0.0   0.0   0.0   0.0   0.0   0.0   0.0  \n",
       "aaahhh      0.0   0.0   0.0   0.0   0.0   0.0   0.0   0.0   0.0   0.0  \n",
       "aaand       0.0   0.0   0.0   0.0   0.0   0.0   0.0   0.0   0.0   0.0  \n",
       "...         ...   ...   ...   ...   ...   ...   ...   ...   ...   ...  \n",
       "yup         0.0   0.0   0.0   0.0   0.0   0.0   0.0   0.0   0.0   0.0  \n",
       "yyeah       0.0   0.0   0.0   0.0   0.0   0.0   0.0   0.0   0.0   0.0  \n",
       "zero        0.0   0.0   0.0   0.0   0.0   0.0   0.0   0.0   0.0   0.0  \n",
       "ziplining   0.0   0.0   0.0   0.0   0.0   0.0   0.0   0.0   0.0   0.0  \n",
       "zombie      0.0   0.0   0.0   0.0   0.0   0.0   0.0   0.0   0.0   0.0  \n",
       "\n",
       "[2942 rows x 8219 columns]"
      ]
     },
     "execution_count": 71,
     "metadata": {},
     "output_type": "execute_result"
    }
   ],
   "source": [
    "vectorizer = TfidfVectorizer(min_df=4, lowercase=True, stop_words=None)\n",
    "vectors = vectorizer.fit_transform(np.hstack(df['cleaned_text']))\n",
    "\n",
    "pd.DataFrame(vectors.toarray(), columns=vectorizer.get_feature_names()).T"
   ]
  },
  {
   "cell_type": "code",
   "execution_count": 72,
   "metadata": {},
   "outputs": [
    {
     "data": {
      "text/html": [
       "<div>\n",
       "<style scoped>\n",
       "    .dataframe tbody tr th:only-of-type {\n",
       "        vertical-align: middle;\n",
       "    }\n",
       "\n",
       "    .dataframe tbody tr th {\n",
       "        vertical-align: top;\n",
       "    }\n",
       "\n",
       "    .dataframe thead th {\n",
       "        text-align: right;\n",
       "    }\n",
       "</style>\n",
       "<table border=\"1\" class=\"dataframe\">\n",
       "  <thead>\n",
       "    <tr style=\"text-align: right;\">\n",
       "      <th></th>\n",
       "      <th>Season</th>\n",
       "      <th>Episode</th>\n",
       "      <th>Character</th>\n",
       "      <th>Line</th>\n",
       "      <th>cleaned_text</th>\n",
       "      <th>dialogue_length</th>\n",
       "      <th>lemmatized_text</th>\n",
       "      <th>stemming_text</th>\n",
       "    </tr>\n",
       "  </thead>\n",
       "  <tbody>\n",
       "    <tr>\n",
       "      <td>29651</td>\n",
       "      <td>1</td>\n",
       "      <td>6</td>\n",
       "      <td>Kyle</td>\n",
       "      <td>Well, then you should. I think that a person h...</td>\n",
       "      <td>well think person right die wan na</td>\n",
       "      <td>7</td>\n",
       "      <td>well think person right die wan na</td>\n",
       "      <td>well think person right die wan na</td>\n",
       "    </tr>\n",
       "    <tr>\n",
       "      <td>60983</td>\n",
       "      <td>7</td>\n",
       "      <td>6</td>\n",
       "      <td>Cartman</td>\n",
       "      <td>Bash, bash, BASH your skull in, causing instan...</td>\n",
       "      <td>bash bash bash skull causing instant death</td>\n",
       "      <td>7</td>\n",
       "      <td>bash bash bash skull cause instant death</td>\n",
       "      <td>bash bash bash skull caus instant death</td>\n",
       "    </tr>\n",
       "    <tr>\n",
       "      <td>9043</td>\n",
       "      <td>12</td>\n",
       "      <td>10</td>\n",
       "      <td>Randy</td>\n",
       "      <td>Oh look! Stan's eating a tater-tot! Wave to th...</td>\n",
       "      <td>oh look stan eating wave camera stan</td>\n",
       "      <td>7</td>\n",
       "      <td>oh look stan eating wave camera stan</td>\n",
       "      <td>oh look stan eat wave camera stan</td>\n",
       "    </tr>\n",
       "    <tr>\n",
       "      <td>65532</td>\n",
       "      <td>8</td>\n",
       "      <td>7</td>\n",
       "      <td>Stan</td>\n",
       "      <td>Dude, wait, wait, ho- hold on. Wait a second. ...</td>\n",
       "      <td>dude wait wait hold wait second gay</td>\n",
       "      <td>7</td>\n",
       "      <td>dude wait wait hold wait second gay</td>\n",
       "      <td>dude wait wait hold wait second gay</td>\n",
       "    </tr>\n",
       "    <tr>\n",
       "      <td>43072</td>\n",
       "      <td>3</td>\n",
       "      <td>14</td>\n",
       "      <td>Kyle</td>\n",
       "      <td>Yeah. He doesn't even know that the South lose...</td>\n",
       "      <td>yeah even know south loses civil war</td>\n",
       "      <td>7</td>\n",
       "      <td>yeah even know south loses civil war</td>\n",
       "      <td>yeah even know south lose civil war</td>\n",
       "    </tr>\n",
       "  </tbody>\n",
       "</table>\n",
       "</div>"
      ],
      "text/plain": [
       "      Season Episode Character  \\\n",
       "29651      1       6      Kyle   \n",
       "60983      7       6   Cartman   \n",
       "9043      12      10     Randy   \n",
       "65532      8       7      Stan   \n",
       "43072      3      14      Kyle   \n",
       "\n",
       "                                                    Line  \\\n",
       "29651  Well, then you should. I think that a person h...   \n",
       "60983  Bash, bash, BASH your skull in, causing instan...   \n",
       "9043   Oh look! Stan's eating a tater-tot! Wave to th...   \n",
       "65532  Dude, wait, wait, ho- hold on. Wait a second. ...   \n",
       "43072  Yeah. He doesn't even know that the South lose...   \n",
       "\n",
       "                                     cleaned_text  dialogue_length  \\\n",
       "29651          well think person right die wan na                7   \n",
       "60983  bash bash bash skull causing instant death                7   \n",
       "9043         oh look stan eating wave camera stan                7   \n",
       "65532         dude wait wait hold wait second gay                7   \n",
       "43072        yeah even know south loses civil war                7   \n",
       "\n",
       "                                lemmatized_text  \\\n",
       "29651        well think person right die wan na   \n",
       "60983  bash bash bash skull cause instant death   \n",
       "9043       oh look stan eating wave camera stan   \n",
       "65532       dude wait wait hold wait second gay   \n",
       "43072      yeah even know south loses civil war   \n",
       "\n",
       "                                 stemming_text  \n",
       "29651       well think person right die wan na  \n",
       "60983  bash bash bash skull caus instant death  \n",
       "9043         oh look stan eat wave camera stan  \n",
       "65532      dude wait wait hold wait second gay  \n",
       "43072      yeah even know south lose civil war  "
      ]
     },
     "execution_count": 72,
     "metadata": {},
     "output_type": "execute_result"
    }
   ],
   "source": [
    "df.head()"
   ]
  },
  {
   "cell_type": "markdown",
   "metadata": {},
   "source": [
    "# 5. Preparation pour apprentissage automatique (machine learning) et apprentissage profond (deep learning)"
   ]
  },
  {
   "cell_type": "code",
   "execution_count": 74,
   "metadata": {},
   "outputs": [],
   "source": [
    "from sklearn.metrics import classification_report\n",
    "from sklearn.metrics import accuracy_score\n",
    "from sklearn.metrics import confusion_matrix\n",
    "import seaborn as sns\n",
    "import matplotlib.pyplot as plt\n",
    "from sklearn.naive_bayes import MultinomialNB\n",
    "\n",
    "from sklearn.svm import LinearSVC\n",
    "from sklearn.ensemble import AdaBoostClassifier\n",
    "from sklearn.tree import DecisionTreeClassifier\n",
    "from sklearn.ensemble import RandomForestClassifier\n",
    "from sklearn.linear_model import LogisticRegression"
   ]
  },
  {
   "cell_type": "code",
   "execution_count": 75,
   "metadata": {},
   "outputs": [],
   "source": [
    "# Les algorithmes a utiliser \n",
    "classifiers = {\n",
    "    \"Naive Bayes\": MultinomialNB(),\n",
    "    \"Support Vector Machine\": LinearSVC(),\n",
    "    \"Decision Tree\": DecisionTreeClassifier(),\n",
    "    \"Ada Boosting\": AdaBoostClassifier(),\n",
    "    \"Random Forest\": RandomForestClassifier(),\n",
    "    \"Logistic Regression\": LogisticRegression(),\n",
    "}"
   ]
  },
  {
   "cell_type": "code",
   "execution_count": 85,
   "metadata": {},
   "outputs": [],
   "source": [
    "# Classification\n",
    "\n",
    "def training_models(X_train, y_train, X_test):\n",
    "    '''\n",
    "    Fonction pour entrainer les differents modèles et reporter les metriques.\n",
    "    input: données d'entrainement et de test\n",
    "    output: precision, rappel, f1-score, matrice de confusion de chaque classifier\n",
    "    \n",
    "    '''\n",
    "    symbole1 = \"***\"\n",
    "    symbole2 = \" \"\n",
    "    \n",
    "    \n",
    "    for key, classifier in classifiers.items():\n",
    "        print(20*symbole1)\n",
    "        print(symbole2*10 ,key)\n",
    "        print(20*symbole1)\n",
    "\n",
    "        # Entrainement du modèle\n",
    "        classifier.fit(X_train, y_train)\n",
    "        \n",
    "        # Prédiction sur les données de test\n",
    "        y_pred = classifier.predict(X_test)\n",
    "\n",
    "        print(\" les principales Metriques de classification:\\n\", classification_report(y_test, y_pred))\n",
    "        \n",
    "        # Matrice de confusion\n",
    "        sns.heatmap(confusion_matrix(y_test, y_pred, labels = list(set(y_train))), \n",
    "                    annot=True, \n",
    "                    xticklabels=set(y_train),\n",
    "                    yticklabels=set(y_train))\n",
    "        \n",
    "        plt.ylabel('Vraies classes')\n",
    "        plt.xlabel('Classes prédites')\n",
    "        plt.show()"
   ]
  },
  {
   "cell_type": "markdown",
   "metadata": {},
   "source": [
    "###  5.1. CountVectorizer"
   ]
  },
  {
   "cell_type": "markdown",
   "metadata": {},
   "source": [
    "#### Utilisation des Données normalisées avec la lemmatization"
   ]
  },
  {
   "cell_type": "code",
   "execution_count": 79,
   "metadata": {},
   "outputs": [],
   "source": [
    "# Extraction des caractéristiques\n",
    "vectorizer = CountVectorizer(min_df = 5, lowercase = False, ngram_range=(1, 3))\n",
    "\n",
    "X = vectorizer.fit_transform(df['lemmatized_text']).toarray()\n",
    "y = df['Character']"
   ]
  },
  {
   "cell_type": "markdown",
   "metadata": {},
   "source": [
    "###  5.2. Diviser les jeux de données"
   ]
  },
  {
   "cell_type": "code",
   "execution_count": 80,
   "metadata": {},
   "outputs": [],
   "source": [
    "from sklearn.model_selection import train_test_split"
   ]
  },
  {
   "cell_type": "code",
   "execution_count": 81,
   "metadata": {},
   "outputs": [
    {
     "data": {
      "text/plain": [
       "(6575, 1644)"
      ]
     },
     "execution_count": 81,
     "metadata": {},
     "output_type": "execute_result"
    }
   ],
   "source": [
    "X_train, X_test, y_train, y_test = train_test_split(X, y, test_size=0.2, random_state=43)\n",
    "len(X_train), len(X_test)"
   ]
  },
  {
   "cell_type": "code",
   "execution_count": 86,
   "metadata": {},
   "outputs": [
    {
     "name": "stdout",
     "output_type": "stream",
     "text": [
      "************************************************************\n",
      "           Naive Bayes\n",
      "************************************************************\n",
      " les principales Metriques de classification:\n",
      "               precision    recall  f1-score   support\n",
      "\n",
      "     Butters       0.55      0.37      0.44       161\n",
      "     Cartman       0.62      0.72      0.66       694\n",
      "        Kyle       0.41      0.35      0.38       284\n",
      "       Randy       0.56      0.40      0.47       185\n",
      "        Stan       0.41      0.46      0.43       320\n",
      "\n",
      "    accuracy                           0.53      1644\n",
      "   macro avg       0.51      0.46      0.48      1644\n",
      "weighted avg       0.53      0.53      0.53      1644\n",
      "\n"
     ]
    },
    {
     "data": {
      "image/png": "[encoded data removed]",
      "text/plain": [
       "<Figure size 432x288 with 2 Axes>"
      ]
     },
     "metadata": {
      "needs_background": "light"
     },
     "output_type": "display_data"
    },
    {
     "name": "stdout",
     "output_type": "stream",
     "text": [
      "************************************************************\n",
      "           Support Vector Machine\n",
      "************************************************************\n"
     ]
    },
    {
     "name": "stderr",
     "output_type": "stream",
     "text": [
      "C:\\ProgramData\\Anaconda3\\lib\\site-packages\\sklearn\\svm\\base.py:929: ConvergenceWarning: Liblinear failed to converge, increase the number of iterations.\n",
      "  \"the number of iterations.\", ConvergenceWarning)\n"
     ]
    },
    {
     "name": "stdout",
     "output_type": "stream",
     "text": [
      " les principales Metriques de classification:\n",
      "               precision    recall  f1-score   support\n",
      "\n",
      "     Butters       0.41      0.34      0.37       161\n",
      "     Cartman       0.60      0.66      0.63       694\n",
      "        Kyle       0.34      0.33      0.34       284\n",
      "       Randy       0.50      0.36      0.42       185\n",
      "        Stan       0.35      0.36      0.35       320\n",
      "\n",
      "    accuracy                           0.48      1644\n",
      "   macro avg       0.44      0.41      0.42      1644\n",
      "weighted avg       0.48      0.48      0.48      1644\n",
      "\n"
     ]
    },
    {
     "data": {
      "image/png": "[encoded data removed]",
      "text/plain": [
       "<Figure size 432x288 with 2 Axes>"
      ]
     },
     "metadata": {
      "needs_background": "light"
     },
     "output_type": "display_data"
    },
    {
     "name": "stdout",
     "output_type": "stream",
     "text": [
      "************************************************************\n",
      "           Decision Tree\n",
      "************************************************************\n",
      " les principales Metriques de classification:\n",
      "               precision    recall  f1-score   support\n",
      "\n",
      "     Butters       0.34      0.20      0.26       161\n",
      "     Cartman       0.53      0.63      0.58       694\n",
      "        Kyle       0.30      0.25      0.27       284\n",
      "       Randy       0.40      0.26      0.32       185\n",
      "        Stan       0.30      0.34      0.32       320\n",
      "\n",
      "    accuracy                           0.43      1644\n",
      "   macro avg       0.37      0.34      0.35      1644\n",
      "weighted avg       0.41      0.43      0.41      1644\n",
      "\n"
     ]
    },
    {
     "data": {
      "image/png": "[encoded data removed]",
      "text/plain": [
       "<Figure size 432x288 with 2 Axes>"
      ]
     },
     "metadata": {
      "needs_background": "light"
     },
     "output_type": "display_data"
    },
    {
     "name": "stdout",
     "output_type": "stream",
     "text": [
      "************************************************************\n",
      "           Ada Boosting\n",
      "************************************************************\n",
      " les principales Metriques de classification:\n",
      "               precision    recall  f1-score   support\n",
      "\n",
      "     Butters       0.57      0.31      0.40       161\n",
      "     Cartman       0.49      0.91      0.64       694\n",
      "        Kyle       0.51      0.18      0.27       284\n",
      "       Randy       0.68      0.21      0.32       185\n",
      "        Stan       0.45      0.17      0.24       320\n",
      "\n",
      "    accuracy                           0.50      1644\n",
      "   macro avg       0.54      0.35      0.37      1644\n",
      "weighted avg       0.52      0.50      0.44      1644\n",
      "\n"
     ]
    },
    {
     "data": {
      "image/png": "[encoded data removed]",
      "text/plain": [
       "<Figure size 432x288 with 2 Axes>"
      ]
     },
     "metadata": {
      "needs_background": "light"
     },
     "output_type": "display_data"
    },
    {
     "name": "stdout",
     "output_type": "stream",
     "text": [
      "************************************************************\n",
      "           Random Forest\n",
      "************************************************************\n",
      " les principales Metriques de classification:\n",
      "               precision    recall  f1-score   support\n",
      "\n",
      "     Butters       0.46      0.25      0.33       161\n",
      "     Cartman       0.52      0.84      0.64       694\n",
      "        Kyle       0.39      0.25      0.31       284\n",
      "       Randy       0.62      0.20      0.30       185\n",
      "        Stan       0.35      0.19      0.25       320\n",
      "\n",
      "    accuracy                           0.48      1644\n",
      "   macro avg       0.47      0.35      0.36      1644\n",
      "weighted avg       0.47      0.48      0.44      1644\n",
      "\n"
     ]
    },
    {
     "data": {
      "image/png": "[encoded data removed]",
      "text/plain": [
       "<Figure size 432x288 with 2 Axes>"
      ]
     },
     "metadata": {
      "needs_background": "light"
     },
     "output_type": "display_data"
    },
    {
     "name": "stdout",
     "output_type": "stream",
     "text": [
      "************************************************************\n",
      "           Logistic Regression\n",
      "************************************************************\n"
     ]
    },
    {
     "name": "stderr",
     "output_type": "stream",
     "text": [
      "C:\\ProgramData\\Anaconda3\\lib\\site-packages\\sklearn\\linear_model\\logistic.py:432: FutureWarning: Default solver will be changed to 'lbfgs' in 0.22. Specify a solver to silence this warning.\n",
      "  FutureWarning)\n",
      "C:\\ProgramData\\Anaconda3\\lib\\site-packages\\sklearn\\linear_model\\logistic.py:469: FutureWarning: Default multi_class will be changed to 'auto' in 0.22. Specify the multi_class option to silence this warning.\n",
      "  \"this warning.\", FutureWarning)\n"
     ]
    },
    {
     "name": "stdout",
     "output_type": "stream",
     "text": [
      " les principales Metriques de classification:\n",
      "               precision    recall  f1-score   support\n",
      "\n",
      "     Butters       0.59      0.32      0.41       161\n",
      "     Cartman       0.60      0.78      0.68       694\n",
      "        Kyle       0.38      0.31      0.34       284\n",
      "       Randy       0.61      0.37      0.46       185\n",
      "        Stan       0.42      0.41      0.42       320\n",
      "\n",
      "    accuracy                           0.53      1644\n",
      "   macro avg       0.52      0.44      0.46      1644\n",
      "weighted avg       0.53      0.53      0.52      1644\n",
      "\n"
     ]
    },
    {
     "data": {
      "image/png": "[encoded data removed]",
      "text/plain": [
       "<Figure size 432x288 with 2 Axes>"
      ]
     },
     "metadata": {
      "needs_background": "light"
     },
     "output_type": "display_data"
    }
   ],
   "source": [
    "training_models(X_train, y_train, X_test)"
   ]
  },
  {
   "cell_type": "markdown",
   "metadata": {},
   "source": [
    "####  Utilisation des Données normalisées avec la racinisation"
   ]
  },
  {
   "cell_type": "code",
   "execution_count": 87,
   "metadata": {},
   "outputs": [],
   "source": [
    "# Extraction de caractéristiques\n",
    "vectorizer = CountVectorizer(min_df = 5, lowercase = False, ngram_range=(1, 3))\n",
    "X = vectorizer.fit_transform(df['stemming_text']).toarray()\n",
    "y = df['Character']"
   ]
  },
  {
   "cell_type": "code",
   "execution_count": 88,
   "metadata": {},
   "outputs": [
    {
     "data": {
      "text/plain": [
       "(5753, 2466)"
      ]
     },
     "execution_count": 88,
     "metadata": {},
     "output_type": "execute_result"
    }
   ],
   "source": [
    "X_train, X_test, y_train, y_test = train_test_split(X, y, test_size=0.3, random_state=43)\n",
    "len(X_train), len(X_test)"
   ]
  },
  {
   "cell_type": "code",
   "execution_count": 89,
   "metadata": {},
   "outputs": [
    {
     "name": "stdout",
     "output_type": "stream",
     "text": [
      "************************************************************\n",
      "           Naive Bayes\n",
      "************************************************************\n",
      " les principales Metriques de classification:\n",
      "               precision    recall  f1-score   support\n",
      "\n",
      "     Butters       0.54      0.37      0.44       244\n",
      "     Cartman       0.61      0.71      0.66      1041\n",
      "        Kyle       0.41      0.34      0.37       437\n",
      "       Randy       0.52      0.38      0.44       265\n",
      "        Stan       0.41      0.45      0.43       479\n",
      "\n",
      "    accuracy                           0.53      2466\n",
      "   macro avg       0.50      0.45      0.47      2466\n",
      "weighted avg       0.52      0.53      0.52      2466\n",
      "\n"
     ]
    },
    {
     "data": {
      "image/png": "[encoded data removed]",
      "text/plain": [
       "<Figure size 432x288 with 2 Axes>"
      ]
     },
     "metadata": {
      "needs_background": "light"
     },
     "output_type": "display_data"
    },
    {
     "name": "stdout",
     "output_type": "stream",
     "text": [
      "************************************************************\n",
      "           Support Vector Machine\n",
      "************************************************************\n",
      " les principales Metriques de classification:\n",
      "               precision    recall  f1-score   support\n",
      "\n",
      "     Butters       0.43      0.36      0.39       244\n",
      "     Cartman       0.61      0.64      0.63      1041\n",
      "        Kyle       0.33      0.32      0.33       437\n",
      "       Randy       0.48      0.36      0.41       265\n",
      "        Stan       0.34      0.39      0.36       479\n",
      "\n",
      "    accuracy                           0.48      2466\n",
      "   macro avg       0.44      0.42      0.42      2466\n",
      "weighted avg       0.48      0.48      0.48      2466\n",
      "\n"
     ]
    },
    {
     "data": {
      "image/png": "[encoded data removed]",
      "text/plain": [
       "<Figure size 432x288 with 2 Axes>"
      ]
     },
     "metadata": {
      "needs_background": "light"
     },
     "output_type": "display_data"
    },
    {
     "name": "stdout",
     "output_type": "stream",
     "text": [
      "************************************************************\n",
      "           Decision Tree\n",
      "************************************************************\n",
      " les principales Metriques de classification:\n",
      "               precision    recall  f1-score   support\n",
      "\n",
      "     Butters       0.32      0.25      0.28       244\n",
      "     Cartman       0.53      0.60      0.56      1041\n",
      "        Kyle       0.32      0.29      0.31       437\n",
      "       Randy       0.40      0.31      0.35       265\n",
      "        Stan       0.28      0.29      0.29       479\n",
      "\n",
      "    accuracy                           0.42      2466\n",
      "   macro avg       0.37      0.35      0.36      2466\n",
      "weighted avg       0.41      0.42      0.41      2466\n",
      "\n"
     ]
    },
    {
     "data": {
      "image/png": "[encoded data removed]",
      "text/plain": [
       "<Figure size 432x288 with 2 Axes>"
      ]
     },
     "metadata": {
      "needs_background": "light"
     },
     "output_type": "display_data"
    },
    {
     "name": "stdout",
     "output_type": "stream",
     "text": [
      "************************************************************\n",
      "           Ada Boosting\n",
      "************************************************************\n",
      " les principales Metriques de classification:\n",
      "               precision    recall  f1-score   support\n",
      "\n",
      "     Butters       0.56      0.29      0.38       244\n",
      "     Cartman       0.49      0.90      0.64      1041\n",
      "        Kyle       0.49      0.18      0.26       437\n",
      "       Randy       0.69      0.23      0.35       265\n",
      "        Stan       0.45      0.16      0.24       479\n",
      "\n",
      "    accuracy                           0.50      2466\n",
      "   macro avg       0.54      0.35      0.37      2466\n",
      "weighted avg       0.51      0.50      0.44      2466\n",
      "\n"
     ]
    },
    {
     "data": {
      "image/png": "[encoded data removed]",
      "text/plain": [
       "<Figure size 432x288 with 2 Axes>"
      ]
     },
     "metadata": {
      "needs_background": "light"
     },
     "output_type": "display_data"
    },
    {
     "name": "stdout",
     "output_type": "stream",
     "text": [
      "************************************************************\n",
      "           Random Forest\n",
      "************************************************************\n",
      " les principales Metriques de classification:\n",
      "               precision    recall  f1-score   support\n",
      "\n",
      "     Butters       0.47      0.31      0.37       244\n",
      "     Cartman       0.52      0.81      0.63      1041\n",
      "        Kyle       0.40      0.24      0.30       437\n",
      "       Randy       0.54      0.22      0.31       265\n",
      "        Stan       0.37      0.24      0.29       479\n",
      "\n",
      "    accuracy                           0.49      2466\n",
      "   macro avg       0.46      0.36      0.38      2466\n",
      "weighted avg       0.47      0.49      0.45      2466\n",
      "\n"
     ]
    },
    {
     "data": {
      "image/png": "[encoded data removed]",
      "text/plain": [
       "<Figure size 432x288 with 2 Axes>"
      ]
     },
     "metadata": {
      "needs_background": "light"
     },
     "output_type": "display_data"
    },
    {
     "name": "stdout",
     "output_type": "stream",
     "text": [
      "************************************************************\n",
      "           Logistic Regression\n",
      "************************************************************\n"
     ]
    },
    {
     "name": "stderr",
     "output_type": "stream",
     "text": [
      "C:\\ProgramData\\Anaconda3\\lib\\site-packages\\sklearn\\linear_model\\logistic.py:432: FutureWarning: Default solver will be changed to 'lbfgs' in 0.22. Specify a solver to silence this warning.\n",
      "  FutureWarning)\n",
      "C:\\ProgramData\\Anaconda3\\lib\\site-packages\\sklearn\\linear_model\\logistic.py:469: FutureWarning: Default multi_class will be changed to 'auto' in 0.22. Specify the multi_class option to silence this warning.\n",
      "  \"this warning.\", FutureWarning)\n"
     ]
    },
    {
     "name": "stdout",
     "output_type": "stream",
     "text": [
      " les principales Metriques de classification:\n",
      "               precision    recall  f1-score   support\n",
      "\n",
      "     Butters       0.56      0.34      0.43       244\n",
      "     Cartman       0.61      0.78      0.68      1041\n",
      "        Kyle       0.40      0.32      0.35       437\n",
      "       Randy       0.60      0.37      0.46       265\n",
      "        Stan       0.41      0.40      0.40       479\n",
      "\n",
      "    accuracy                           0.54      2466\n",
      "   macro avg       0.51      0.44      0.47      2466\n",
      "weighted avg       0.53      0.54      0.52      2466\n",
      "\n"
     ]
    },
    {
     "data": {
      "image/png": "[encoded data removed]",
      "text/plain": [
       "<Figure size 432x288 with 2 Axes>"
      ]
     },
     "metadata": {
      "needs_background": "light"
     },
     "output_type": "display_data"
    }
   ],
   "source": [
    "training_models(X_train, y_train, X_test)"
   ]
  },
  {
   "cell_type": "markdown",
   "metadata": {},
   "source": [
    "## TF-IDF\n",
    "\n",
    "Utilisation d'un vectoriseur tf-idf pondéré"
   ]
  },
  {
   "cell_type": "markdown",
   "metadata": {},
   "source": [
    "### Utilisation des Données normalisées avec la lemmatization"
   ]
  },
  {
   "cell_type": "code",
   "execution_count": 124,
   "metadata": {},
   "outputs": [],
   "source": [
    "from sklearn.feature_extraction.text import TfidfVectorizer\n",
    "vectorizer = TfidfVectorizer(ngram_range=(1, 1))\n",
    "\n",
    "X = vectorizer.fit_transform(dataset['lemmatized_text']).toarray()\n",
    "y = dataset['Character']"
   ]
  },
  {
   "cell_type": "code",
   "execution_count": 125,
   "metadata": {},
   "outputs": [],
   "source": [
    "# Diviser le jeu de données en 70% train et 20% test\n",
    "from sklearn.model_selection import train_test_split"
   ]
  },
  {
   "cell_type": "code",
   "execution_count": 126,
   "metadata": {},
   "outputs": [
    {
     "data": {
      "text/plain": [
       "(7191, 3082)"
      ]
     },
     "execution_count": 126,
     "metadata": {},
     "output_type": "execute_result"
    }
   ],
   "source": [
    "X_train, X_test, y_train, y_test = train_test_split(X, y, test_size=0.2, random_state=43)\n",
    "len(X_train), len(X_test)"
   ]
  },
  {
   "cell_type": "code",
   "execution_count": 127,
   "metadata": {},
   "outputs": [
    {
     "name": "stdout",
     "output_type": "stream",
     "text": [
      "<><><><><><><><><><><><><><><><><><><><>\n",
      "           Naive Bayes\n",
      "<><><><><><><><><><><><><><><><><><><><>\n",
      " les principales Metriques de classification:\n",
      "               precision    recall  f1-score   support\n",
      "\n",
      "     Butters       1.00      0.02      0.04       274\n",
      "     Cartman       0.43      0.98      0.59      1262\n",
      "        Kyle       0.60      0.05      0.09       590\n",
      "       Randy       1.00      0.00      0.01       319\n",
      "        Stan       0.41      0.08      0.14       637\n",
      "\n",
      "    accuracy                           0.43      3082\n",
      "   macro avg       0.69      0.23      0.17      3082\n",
      "weighted avg       0.57      0.43      0.29      3082\n",
      "\n"
     ]
    },
    {
     "data": {
      "image/png": "[encoded data removed]",
      "text/plain": [
       "<Figure size 432x288 with 2 Axes>"
      ]
     },
     "metadata": {
      "needs_background": "light"
     },
     "output_type": "display_data"
    },
    {
     "name": "stdout",
     "output_type": "stream",
     "text": [
      "<><><><><><><><><><><><><><><><><><><><>\n",
      "           Support Vector Machine\n",
      "<><><><><><><><><><><><><><><><><><><><>\n",
      " les principales Metriques de classification:\n",
      "               precision    recall  f1-score   support\n",
      "\n",
      "     Butters       0.57      0.40      0.47       274\n",
      "     Cartman       0.59      0.71      0.64      1262\n",
      "        Kyle       0.39      0.34      0.36       590\n",
      "       Randy       0.58      0.40      0.48       319\n",
      "        Stan       0.40      0.38      0.39       637\n",
      "\n",
      "    accuracy                           0.51      3082\n",
      "   macro avg       0.50      0.45      0.47      3082\n",
      "weighted avg       0.51      0.51      0.50      3082\n",
      "\n"
     ]
    },
    {
     "data": {
      "image/png": "[encoded data removed]",
      "text/plain": [
       "<Figure size 432x288 with 2 Axes>"
      ]
     },
     "metadata": {
      "needs_background": "light"
     },
     "output_type": "display_data"
    },
    {
     "name": "stdout",
     "output_type": "stream",
     "text": [
      "<><><><><><><><><><><><><><><><><><><><>\n",
      "           Decision Tree\n",
      "<><><><><><><><><><><><><><><><><><><><>\n",
      " les principales Metriques de classification:\n",
      "               precision    recall  f1-score   support\n",
      "\n",
      "     Butters       0.33      0.26      0.29       274\n",
      "     Cartman       0.53      0.61      0.56      1262\n",
      "        Kyle       0.36      0.33      0.34       590\n",
      "       Randy       0.37      0.29      0.32       319\n",
      "        Stan       0.30      0.29      0.29       637\n",
      "\n",
      "    accuracy                           0.42      3082\n",
      "   macro avg       0.38      0.35      0.36      3082\n",
      "weighted avg       0.41      0.42      0.42      3082\n",
      "\n"
     ]
    },
    {
     "data": {
      "image/png": "[encoded data removed]",
      "text/plain": [
       "<Figure size 432x288 with 2 Axes>"
      ]
     },
     "metadata": {
      "needs_background": "light"
     },
     "output_type": "display_data"
    },
    {
     "name": "stdout",
     "output_type": "stream",
     "text": [
      "<><><><><><><><><><><><><><><><><><><><>\n",
      "           Ada Boosting\n",
      "<><><><><><><><><><><><><><><><><><><><>\n",
      " les principales Metriques de classification:\n",
      "               precision    recall  f1-score   support\n",
      "\n",
      "     Butters       0.48      0.23      0.31       274\n",
      "     Cartman       0.48      0.83      0.61      1262\n",
      "        Kyle       0.41      0.23      0.30       590\n",
      "       Randy       0.56      0.25      0.34       319\n",
      "        Stan       0.38      0.17      0.24       637\n",
      "\n",
      "    accuracy                           0.47      3082\n",
      "   macro avg       0.46      0.34      0.36      3082\n",
      "weighted avg       0.45      0.47      0.42      3082\n",
      "\n"
     ]
    },
    {
     "data": {
      "image/png": "[encoded data removed]",
      "text/plain": [
       "<Figure size 432x288 with 2 Axes>"
      ]
     },
     "metadata": {
      "needs_background": "light"
     },
     "output_type": "display_data"
    },
    {
     "name": "stdout",
     "output_type": "stream",
     "text": [
      "<><><><><><><><><><><><><><><><><><><><>\n",
      "           Random Forest\n",
      "<><><><><><><><><><><><><><><><><><><><>\n",
      " les principales Metriques de classification:\n",
      "               precision    recall  f1-score   support\n",
      "\n",
      "     Butters       0.70      0.19      0.30       274\n",
      "     Cartman       0.50      0.87      0.64      1262\n",
      "        Kyle       0.48      0.27      0.34       590\n",
      "       Randy       0.79      0.19      0.31       319\n",
      "        Stan       0.43      0.28      0.34       637\n",
      "\n",
      "    accuracy                           0.50      3082\n",
      "   macro avg       0.58      0.36      0.39      3082\n",
      "weighted avg       0.53      0.50      0.46      3082\n",
      "\n"
     ]
    },
    {
     "data": {
      "image/png": "[encoded data removed]",
      "text/plain": [
       "<Figure size 432x288 with 2 Axes>"
      ]
     },
     "metadata": {
      "needs_background": "light"
     },
     "output_type": "display_data"
    },
    {
     "name": "stdout",
     "output_type": "stream",
     "text": [
      "<><><><><><><><><><><><><><><><><><><><>\n",
      "           Logistic Regression\n",
      "<><><><><><><><><><><><><><><><><><><><>\n"
     ]
    },
    {
     "name": "stderr",
     "output_type": "stream",
     "text": [
      "/home/daj/anaconda3/lib/python3.7/site-packages/sklearn/linear_model/_logistic.py:764: ConvergenceWarning: lbfgs failed to converge (status=1):\n",
      "STOP: TOTAL NO. of ITERATIONS REACHED LIMIT.\n",
      "\n",
      "Increase the number of iterations (max_iter) or scale the data as shown in:\n",
      "    https://scikit-learn.org/stable/modules/preprocessing.html\n",
      "Please also refer to the documentation for alternative solver options:\n",
      "    https://scikit-learn.org/stable/modules/linear_model.html#logistic-regression\n",
      "  extra_warning_msg=_LOGISTIC_SOLVER_CONVERGENCE_MSG)\n"
     ]
    },
    {
     "name": "stdout",
     "output_type": "stream",
     "text": [
      " les principales Metriques de classification:\n",
      "               precision    recall  f1-score   support\n",
      "\n",
      "     Butters       0.67      0.24      0.35       274\n",
      "     Cartman       0.53      0.84      0.65      1262\n",
      "        Kyle       0.44      0.27      0.34       590\n",
      "       Randy       0.68      0.22      0.33       319\n",
      "        Stan       0.40      0.33      0.36       637\n",
      "\n",
      "    accuracy                           0.51      3082\n",
      "   macro avg       0.55      0.38      0.41      3082\n",
      "weighted avg       0.52      0.51      0.47      3082\n",
      "\n"
     ]
    },
    {
     "data": {
      "image/png": "[encoded data removed]",
      "text/plain": [
       "<Figure size 432x288 with 2 Axes>"
      ]
     },
     "metadata": {
      "needs_background": "light"
     },
     "output_type": "display_data"
    }
   ],
   "source": [
    "training_models(X_train, y_train, X_test)"
   ]
  },
  {
   "cell_type": "markdown",
   "metadata": {},
   "source": [
    "### Utilisation des Données normalisées avec la racinisation"
   ]
  },
  {
   "cell_type": "code",
   "execution_count": 90,
   "metadata": {},
   "outputs": [],
   "source": [
    "vectorizer = TfidfVectorizer(ngram_range=(1, 1))\n",
    "\n",
    "X = vectorizer.fit_transform(df['stemming_text']).toarray()\n",
    "y = df['Character']"
   ]
  },
  {
   "cell_type": "code",
   "execution_count": 91,
   "metadata": {},
   "outputs": [],
   "source": [
    "# Diviser le jeu de données en 70% train et 20% test\n",
    "from sklearn.model_selection import train_test_split"
   ]
  },
  {
   "cell_type": "code",
   "execution_count": 92,
   "metadata": {},
   "outputs": [
    {
     "data": {
      "text/plain": [
       "(6575, 1644)"
      ]
     },
     "execution_count": 92,
     "metadata": {},
     "output_type": "execute_result"
    }
   ],
   "source": [
    "X_train, X_test, y_train, y_test = train_test_split(X, y, test_size=0.2, random_state=43)\n",
    "len(X_train), len(X_test)"
   ]
  },
  {
   "cell_type": "code",
   "execution_count": 93,
   "metadata": {},
   "outputs": [
    {
     "name": "stdout",
     "output_type": "stream",
     "text": [
      "************************************************************\n",
      "           Naive Bayes\n",
      "************************************************************\n"
     ]
    },
    {
     "name": "stderr",
     "output_type": "stream",
     "text": [
      "C:\\ProgramData\\Anaconda3\\lib\\site-packages\\sklearn\\metrics\\classification.py:1437: UndefinedMetricWarning: Precision and F-score are ill-defined and being set to 0.0 in labels with no predicted samples.\n",
      "  'precision', 'predicted', average, warn_for)\n"
     ]
    },
    {
     "name": "stdout",
     "output_type": "stream",
     "text": [
      " les principales Metriques de classification:\n",
      "               precision    recall  f1-score   support\n",
      "\n",
      "     Butters       1.00      0.01      0.02       161\n",
      "     Cartman       0.43      1.00      0.60       694\n",
      "        Kyle       0.67      0.02      0.04       284\n",
      "       Randy       0.00      0.00      0.00       185\n",
      "        Stan       0.54      0.06      0.11       320\n",
      "\n",
      "    accuracy                           0.44      1644\n",
      "   macro avg       0.53      0.22      0.16      1644\n",
      "weighted avg       0.50      0.44      0.29      1644\n",
      "\n"
     ]
    },
    {
     "data": {
      "image/png": "[encoded data removed]",
      "text/plain": [
       "<Figure size 432x288 with 2 Axes>"
      ]
     },
     "metadata": {
      "needs_background": "light"
     },
     "output_type": "display_data"
    },
    {
     "name": "stdout",
     "output_type": "stream",
     "text": [
      "************************************************************\n",
      "           Support Vector Machine\n",
      "************************************************************\n",
      " les principales Metriques de classification:\n",
      "               precision    recall  f1-score   support\n",
      "\n",
      "     Butters       0.62      0.36      0.45       161\n",
      "     Cartman       0.62      0.77      0.69       694\n",
      "        Kyle       0.36      0.30      0.33       284\n",
      "       Randy       0.64      0.39      0.48       185\n",
      "        Stan       0.44      0.46      0.45       320\n",
      "\n",
      "    accuracy                           0.55      1644\n",
      "   macro avg       0.53      0.46      0.48      1644\n",
      "weighted avg       0.54      0.55      0.53      1644\n",
      "\n"
     ]
    },
    {
     "data": {
      "image/png": "[encoded data removed]",
      "text/plain": [
       "<Figure size 432x288 with 2 Axes>"
      ]
     },
     "metadata": {
      "needs_background": "light"
     },
     "output_type": "display_data"
    },
    {
     "name": "stdout",
     "output_type": "stream",
     "text": [
      "************************************************************\n",
      "           Decision Tree\n",
      "************************************************************\n",
      " les principales Metriques de classification:\n",
      "               precision    recall  f1-score   support\n",
      "\n",
      "     Butters       0.39      0.27      0.32       161\n",
      "     Cartman       0.54      0.62      0.58       694\n",
      "        Kyle       0.30      0.27      0.28       284\n",
      "       Randy       0.41      0.28      0.33       185\n",
      "        Stan       0.30      0.32      0.31       320\n",
      "\n",
      "    accuracy                           0.43      1644\n",
      "   macro avg       0.39      0.35      0.36      1644\n",
      "weighted avg       0.42      0.43      0.42      1644\n",
      "\n"
     ]
    },
    {
     "data": {
      "image/png": "[encoded data removed]",
      "text/plain": [
       "<Figure size 432x288 with 2 Axes>"
      ]
     },
     "metadata": {
      "needs_background": "light"
     },
     "output_type": "display_data"
    },
    {
     "name": "stdout",
     "output_type": "stream",
     "text": [
      "************************************************************\n",
      "           Ada Boosting\n",
      "************************************************************\n",
      " les principales Metriques de classification:\n",
      "               precision    recall  f1-score   support\n",
      "\n",
      "     Butters       0.52      0.27      0.36       161\n",
      "     Cartman       0.50      0.86      0.63       694\n",
      "        Kyle       0.54      0.16      0.24       284\n",
      "       Randy       0.59      0.30      0.40       185\n",
      "        Stan       0.44      0.25      0.32       320\n",
      "\n",
      "    accuracy                           0.50      1644\n",
      "   macro avg       0.52      0.37      0.39      1644\n",
      "weighted avg       0.51      0.50      0.45      1644\n",
      "\n"
     ]
    },
    {
     "data": {
      "image/png": "[encoded data removed]",
      "text/plain": [
       "<Figure size 432x288 with 2 Axes>"
      ]
     },
     "metadata": {
      "needs_background": "light"
     },
     "output_type": "display_data"
    },
    {
     "name": "stdout",
     "output_type": "stream",
     "text": [
      "************************************************************\n",
      "           Random Forest\n",
      "************************************************************\n",
      " les principales Metriques de classification:\n",
      "               precision    recall  f1-score   support\n",
      "\n",
      "     Butters       0.66      0.23      0.34       161\n",
      "     Cartman       0.51      0.83      0.63       694\n",
      "        Kyle       0.36      0.23      0.28       284\n",
      "       Randy       0.64      0.26      0.37       185\n",
      "        Stan       0.37      0.25      0.30       320\n",
      "\n",
      "    accuracy                           0.49      1644\n",
      "   macro avg       0.51      0.36      0.38      1644\n",
      "weighted avg       0.49      0.49      0.45      1644\n",
      "\n"
     ]
    },
    {
     "data": {
      "image/png": "[encoded data removed]",
      "text/plain": [
       "<Figure size 432x288 with 2 Axes>"
      ]
     },
     "metadata": {
      "needs_background": "light"
     },
     "output_type": "display_data"
    },
    {
     "name": "stdout",
     "output_type": "stream",
     "text": [
      "************************************************************\n",
      "           Logistic Regression\n",
      "************************************************************\n"
     ]
    },
    {
     "name": "stderr",
     "output_type": "stream",
     "text": [
      "C:\\ProgramData\\Anaconda3\\lib\\site-packages\\sklearn\\linear_model\\logistic.py:432: FutureWarning: Default solver will be changed to 'lbfgs' in 0.22. Specify a solver to silence this warning.\n",
      "  FutureWarning)\n",
      "C:\\ProgramData\\Anaconda3\\lib\\site-packages\\sklearn\\linear_model\\logistic.py:469: FutureWarning: Default multi_class will be changed to 'auto' in 0.22. Specify the multi_class option to silence this warning.\n",
      "  \"this warning.\", FutureWarning)\n"
     ]
    },
    {
     "name": "stdout",
     "output_type": "stream",
     "text": [
      " les principales Metriques de classification:\n",
      "               precision    recall  f1-score   support\n",
      "\n",
      "     Butters       0.66      0.16      0.25       161\n",
      "     Cartman       0.53      0.92      0.67       694\n",
      "        Kyle       0.47      0.23      0.30       284\n",
      "       Randy       0.83      0.19      0.31       185\n",
      "        Stan       0.48      0.32      0.38       320\n",
      "\n",
      "    accuracy                           0.53      1644\n",
      "   macro avg       0.59      0.36      0.38      1644\n",
      "weighted avg       0.55      0.53      0.47      1644\n",
      "\n"
     ]
    },
    {
     "data": {
      "image/png": "[encoded data removed]",
      "text/plain": [
       "<Figure size 432x288 with 2 Axes>"
      ]
     },
     "metadata": {
      "needs_background": "light"
     },
     "output_type": "display_data"
    }
   ],
   "source": [
    "training_models(X_train, y_train, X_test)"
   ]
  },
  {
   "cell_type": "markdown",
   "metadata": {},
   "source": [
    "Parmi les models utilises nous pouvons dire que:\n",
    "\n",
    "Le meilleur model: Support Vector Machine\n",
    "\n",
    "Le meilleur pretraitement: lemmatization\n",
    " \n",
    "Le meilleur vectoriseur: TF-IDF"
   ]
  },
  {
   "cell_type": "code",
   "execution_count": null,
   "metadata": {},
   "outputs": [],
   "source": []
  },
  {
   "cell_type": "markdown",
   "metadata": {},
   "source": [
    "# 6. Apprentissage profond (deep learning)"
   ]
  },
  {
   "cell_type": "code",
   "execution_count": 94,
   "metadata": {},
   "outputs": [
    {
     "name": "stdout",
     "output_type": "stream",
     "text": [
      "Requirement already satisfied: keras in c:\\programdata\\anaconda3\\lib\\site-packages (2.4.3)\n",
      "Requirement already satisfied: h5py in c:\\users\\berny\\appdata\\roaming\\python\\python37\\site-packages (from keras) (2.10.0)\n",
      "Requirement already satisfied: pyyaml in c:\\programdata\\anaconda3\\lib\\site-packages (from keras) (5.1.2)\n",
      "Requirement already satisfied: numpy>=1.9.1 in c:\\users\\berny\\appdata\\roaming\\python\\python37\\site-packages (from keras) (1.19.5)\n",
      "Requirement already satisfied: scipy>=0.14 in c:\\programdata\\anaconda3\\lib\\site-packages (from keras) (1.3.1)\n",
      "Requirement already satisfied: six in c:\\users\\berny\\appdata\\roaming\\python\\python37\\site-packages (from h5py->keras) (1.15.0)\n",
      "Requirement already satisfied: tensorflow in c:\\users\\berny\\appdata\\roaming\\python\\python37\\site-packages (2.4.1)\n",
      "Requirement already satisfied: tensorflow-estimator<2.5.0,>=2.4.0 in c:\\programdata\\anaconda3\\lib\\site-packages (from tensorflow) (2.4.0)\n",
      "Requirement already satisfied: google-pasta~=0.2 in c:\\users\\berny\\appdata\\roaming\\python\\python37\\site-packages (from tensorflow) (0.2.0)\n",
      "Requirement already satisfied: h5py~=2.10.0 in c:\\users\\berny\\appdata\\roaming\\python\\python37\\site-packages (from tensorflow) (2.10.0)\n",
      "Requirement already satisfied: opt-einsum~=3.3.0 in c:\\users\\berny\\appdata\\roaming\\python\\python37\\site-packages (from tensorflow) (3.3.0)\n",
      "Requirement already satisfied: termcolor~=1.1.0 in c:\\programdata\\anaconda3\\lib\\site-packages (from tensorflow) (1.1.0)\n",
      "Requirement already satisfied: gast==0.3.3 in c:\\programdata\\anaconda3\\lib\\site-packages (from tensorflow) (0.3.3)\n",
      "Requirement already satisfied: wrapt~=1.12.1 in c:\\users\\berny\\appdata\\roaming\\python\\python37\\site-packages (from tensorflow) (1.12.1)\n",
      "Requirement already satisfied: grpcio~=1.32.0 in c:\\users\\berny\\appdata\\roaming\\python\\python37\\site-packages (from tensorflow) (1.32.0)\n",
      "Requirement already satisfied: typing-extensions~=3.7.4 in c:\\programdata\\anaconda3\\lib\\site-packages (from tensorflow) (3.7.4.3)\n",
      "Requirement already satisfied: keras-preprocessing~=1.1.2 in c:\\users\\berny\\appdata\\roaming\\python\\python37\\site-packages (from tensorflow) (1.1.2)\n",
      "Requirement already satisfied: protobuf>=3.9.2 in c:\\users\\berny\\appdata\\roaming\\python\\python37\\site-packages (from tensorflow) (3.15.1)\n",
      "Requirement already satisfied: six~=1.15.0 in c:\\users\\berny\\appdata\\roaming\\python\\python37\\site-packages (from tensorflow) (1.15.0)\n",
      "Requirement already satisfied: wheel~=0.35 in c:\\users\\berny\\appdata\\roaming\\python\\python37\\site-packages (from tensorflow) (0.36.2)\n",
      "Requirement already satisfied: tensorboard~=2.4 in c:\\users\\berny\\appdata\\roaming\\python\\python37\\site-packages (from tensorflow) (2.4.1)\n",
      "Requirement already satisfied: numpy~=1.19.2 in c:\\users\\berny\\appdata\\roaming\\python\\python37\\site-packages (from tensorflow) (1.19.5)\n",
      "Requirement already satisfied: flatbuffers~=1.12.0 in c:\\programdata\\anaconda3\\lib\\site-packages (from tensorflow) (1.12)\n",
      "Requirement already satisfied: astunparse~=1.6.3 in c:\\users\\berny\\appdata\\roaming\\python\\python37\\site-packages (from tensorflow) (1.6.3)\n",
      "Requirement already satisfied: absl-py~=0.10 in c:\\users\\berny\\appdata\\roaming\\python\\python37\\site-packages (from tensorflow) (0.11.0)\n",
      "Requirement already satisfied: markdown>=2.6.8 in c:\\users\\berny\\appdata\\roaming\\python\\python37\\site-packages (from tensorboard~=2.4->tensorflow) (3.3.3)\n",
      "Requirement already satisfied: tensorboard-plugin-wit>=1.6.0 in c:\\users\\berny\\appdata\\roaming\\python\\python37\\site-packages (from tensorboard~=2.4->tensorflow) (1.8.0)\n",
      "Requirement already satisfied: setuptools>=41.0.0 in c:\\programdata\\anaconda3\\lib\\site-packages (from tensorboard~=2.4->tensorflow) (41.4.0)\n",
      "Requirement already satisfied: werkzeug>=0.11.15 in c:\\programdata\\anaconda3\\lib\\site-packages (from tensorboard~=2.4->tensorflow) (0.16.0)\n",
      "Requirement already satisfied: google-auth<2,>=1.6.3 in c:\\users\\berny\\appdata\\roaming\\python\\python37\\site-packages (from tensorboard~=2.4->tensorflow) (1.27.0)\n",
      "Requirement already satisfied: requests<3,>=2.21.0 in c:\\programdata\\anaconda3\\lib\\site-packages (from tensorboard~=2.4->tensorflow) (2.22.0)\n",
      "Requirement already satisfied: google-auth-oauthlib<0.5,>=0.4.1 in c:\\users\\berny\\appdata\\roaming\\python\\python37\\site-packages (from tensorboard~=2.4->tensorflow) (0.4.2)\n",
      "Requirement already satisfied: importlib-metadata; python_version < \"3.8\" in c:\\programdata\\anaconda3\\lib\\site-packages (from markdown>=2.6.8->tensorboard~=2.4->tensorflow) (0.23)\n",
      "Requirement already satisfied: pyasn1-modules>=0.2.1 in c:\\users\\berny\\appdata\\roaming\\python\\python37\\site-packages (from google-auth<2,>=1.6.3->tensorboard~=2.4->tensorflow) (0.2.8)\n",
      "Requirement already satisfied: rsa<5,>=3.1.4; python_version >= \"3.6\" in c:\\users\\berny\\appdata\\roaming\\python\\python37\\site-packages (from google-auth<2,>=1.6.3->tensorboard~=2.4->tensorflow) (4.7.1)\n",
      "Requirement already satisfied: cachetools<5.0,>=2.0.0 in c:\\users\\berny\\appdata\\roaming\\python\\python37\\site-packages (from google-auth<2,>=1.6.3->tensorboard~=2.4->tensorflow) (4.2.1)\n",
      "Requirement already satisfied: chardet<3.1.0,>=3.0.2 in c:\\programdata\\anaconda3\\lib\\site-packages (from requests<3,>=2.21.0->tensorboard~=2.4->tensorflow) (3.0.4)\n",
      "Requirement already satisfied: certifi>=2017.4.17 in c:\\programdata\\anaconda3\\lib\\site-packages (from requests<3,>=2.21.0->tensorboard~=2.4->tensorflow) (2019.9.11)\n",
      "Requirement already satisfied: idna<2.9,>=2.5 in c:\\programdata\\anaconda3\\lib\\site-packages (from requests<3,>=2.21.0->tensorboard~=2.4->tensorflow) (2.8)\n",
      "Requirement already satisfied: urllib3!=1.25.0,!=1.25.1,<1.26,>=1.21.1 in c:\\programdata\\anaconda3\\lib\\site-packages (from requests<3,>=2.21.0->tensorboard~=2.4->tensorflow) (1.24.2)\n",
      "Requirement already satisfied: requests-oauthlib>=0.7.0 in c:\\users\\berny\\appdata\\roaming\\python\\python37\\site-packages (from google-auth-oauthlib<0.5,>=0.4.1->tensorboard~=2.4->tensorflow) (1.3.0)\n",
      "Requirement already satisfied: zipp>=0.5 in c:\\programdata\\anaconda3\\lib\\site-packages (from importlib-metadata; python_version < \"3.8\"->markdown>=2.6.8->tensorboard~=2.4->tensorflow) (0.6.0)\n",
      "Requirement already satisfied: pyasn1<0.5.0,>=0.4.6 in c:\\users\\berny\\appdata\\roaming\\python\\python37\\site-packages (from pyasn1-modules>=0.2.1->google-auth<2,>=1.6.3->tensorboard~=2.4->tensorflow) (0.4.8)\n",
      "Requirement already satisfied: oauthlib>=3.0.0 in c:\\users\\berny\\appdata\\roaming\\python\\python37\\site-packages (from requests-oauthlib>=0.7.0->google-auth-oauthlib<0.5,>=0.4.1->tensorboard~=2.4->tensorflow) (3.1.0)\n",
      "Requirement already satisfied: more-itertools in c:\\programdata\\anaconda3\\lib\\site-packages (from zipp>=0.5->importlib-metadata; python_version < \"3.8\"->markdown>=2.6.8->tensorboard~=2.4->tensorflow) (7.2.0)\n"
     ]
    }
   ],
   "source": [
    "!pip install keras\n",
    "!pip install tensorflow --user"
   ]
  },
  {
   "cell_type": "code",
   "execution_count": 96,
   "metadata": {},
   "outputs": [
    {
     "name": "stdout",
     "output_type": "stream",
     "text": [
      "Collecting np_utils\n",
      "  Downloading https://files.pythonhosted.org/packages/b6/18/5704a782fd72727a9e63198fcc76fadb86975f45bcdf579c10f668329508/np_utils-0.5.12.1.tar.gz (61kB)\n",
      "Requirement already satisfied: numpy>=1.0 in c:\\users\\berny\\appdata\\roaming\\python\\python37\\site-packages (from np_utils) (1.19.5)\n",
      "Requirement already satisfied: future>=0.16 in c:\\programdata\\anaconda3\\lib\\site-packages (from np_utils) (0.17.1)\n",
      "Building wheels for collected packages: np-utils\n",
      "  Building wheel for np-utils (setup.py): started\n",
      "  Building wheel for np-utils (setup.py): finished with status 'done'\n",
      "  Created wheel for np-utils: filename=np_utils-0.5.12.1-cp37-none-any.whl size=57126 sha256=954bf6b62ac34a0f047331996be178e68d63a17cc8e09117469acfd82d48c9bc\n",
      "  Stored in directory: C:\\Users\\Berny\\AppData\\Local\\pip\\Cache\\wheels\\92\\4b\\81\\206efd0d01330a96f3aebe5021d2d5f0b264b7ade827c306ef\n",
      "Successfully built np-utils\n",
      "Installing collected packages: np-utils\n",
      "Successfully installed np-utils-0.5.12.1\n"
     ]
    }
   ],
   "source": [
    "!pip install np_utils"
   ]
  },
  {
   "cell_type": "code",
   "execution_count": 100,
   "metadata": {},
   "outputs": [],
   "source": [
    "import ast\n",
    "import os\n",
    "#from n_utils import TrainingHistory\n",
    "from tensorflow.keras.layers import Dense, Embedding, Input\n",
    "from tensorflow.keras.layers import GRU, Dropout, MaxPooling1D, Conv1D, Flatten, GlobalMaxPooling1D\n",
    "from tensorflow.keras.models import Model\n",
    "import numpy as np\n",
    "import itertools\n",
    "from tensorflow.keras.utils import to_categorical\n",
    "from sklearn.metrics import (classification_report, \n",
    "                             precision_recall_fscore_support, \n",
    "                             accuracy_score)\n",
    "\n",
    "from tensorflow.keras.preprocessing import text, sequence\n",
    "from tensorflow.keras.layers import Concatenate\n",
    "\n",
    "import tensorflow as tf"
   ]
  },
  {
   "cell_type": "code",
   "execution_count": 101,
   "metadata": {},
   "outputs": [],
   "source": [
    "MAX_FEATURES = 10000 \n",
    "MAX_TEXT_LENGTH = 1024 \n",
    "EMBEDDING_SIZE  = 300 \n",
    "BATCH_SIZE = 16\n",
    "EPOCHS = 10\n",
    "VALIDATION_SPLIT = 0.1"
   ]
  },
  {
   "cell_type": "code",
   "execution_count": 102,
   "metadata": {},
   "outputs": [],
   "source": [
    "def get_train_test(train_raw_text, test_raw_text):\n",
    "    \n",
    "    tokenizer = text.Tokenizer(num_words=MAX_FEATURES)\n",
    "\n",
    "    tokenizer.fit_on_texts(list(train_raw_text))\n",
    "    \n",
    "    train_tokenized = tokenizer.texts_to_sequences(train_raw_text)\n",
    "    test_tokenized = tokenizer.texts_to_sequences(test_raw_text)\n",
    "    \n",
    "    return sequence.pad_sequences(train_tokenized, maxlen=MAX_TEXT_LENGTH), \\\n",
    "           sequence.pad_sequences(test_tokenized, maxlen=MAX_TEXT_LENGTH)"
   ]
  },
  {
   "cell_type": "code",
   "execution_count": 109,
   "metadata": {},
   "outputs": [],
   "source": [
    "def get_model():\n",
    "\n",
    "    inputs = Input(shape=(MAX_TEXT_LENGTH,))\n",
    "    model = Embedding(MAX_FEATURES, EMBEDDING_SIZE)(inputs)\n",
    "    # YOUR CODE HERE couche Dropout\n",
    "    dropout = Dropout(0.5)(model)\n",
    "    \n",
    "    ngram_filters = [1, 2, 3] # YOUR CODE HERE Modifier les valeurs n-gramme\n",
    "    filters = [300]*3\n",
    "\n",
    "    convs = []\n",
    "    for kernel_size, filter_length in zip(ngram_filters, filters):\n",
    "        conv = Conv1D(filters=filter_length,\n",
    "                      kernel_size=kernel_size,\n",
    "                      padding='same',\n",
    "                      activation='relu')(dropout)\n",
    "    \n",
    "        convs.append(conv)\n",
    "\n",
    "    model = Concatenate()(convs)\n",
    "    model = GlobalMaxPooling1D()(model)    \n",
    "\n",
    "    outputs = Dense(n_out, activation=\"softmax\")(model)\n",
    "    model = Model(inputs=inputs, outputs=outputs)\n",
    "    \n",
    "    model.compile(loss='categorical_crossentropy', optimizer='adam', metrics=['accuracy'])\n",
    "    model.summary()\n",
    "    return model"
   ]
  },
  {
   "cell_type": "code",
   "execution_count": 110,
   "metadata": {},
   "outputs": [],
   "source": [
    "def train_fit_predict(model, X_train, X_test, y, history):\n",
    "    \n",
    "    model.fit(X_train, y,\n",
    "              batch_size=BATCH_SIZE,\n",
    "              epochs=EPOCHS, verbose=1,\n",
    "              validation_split=VALIDATION_SPLIT)\n",
    "\n",
    "    return model.predict(X_test)"
   ]
  },
  {
   "cell_type": "code",
   "execution_count": 112,
   "metadata": {},
   "outputs": [],
   "source": [
    "from typing import List"
   ]
  },
  {
   "cell_type": "code",
   "execution_count": null,
   "metadata": {},
   "outputs": [],
   "source": []
  }
 ],
 "metadata": {
  "kernelspec": {
   "display_name": "Python 3",
   "language": "python",
   "name": "python3"
  },
  "language_info": {
   "codemirror_mode": {
    "name": "ipython",
    "version": 3
   },
   "file_extension": ".py",
   "mimetype": "text/x-python",
   "name": "python",
   "nbconvert_exporter": "python",
   "pygments_lexer": "ipython3",
   "version": "3.7.4"
  }
 },
 "nbformat": 4,
 "nbformat_minor": 4
}
